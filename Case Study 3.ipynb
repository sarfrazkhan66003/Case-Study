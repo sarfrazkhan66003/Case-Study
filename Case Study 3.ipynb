{
 "cells": [
  {
   "cell_type": "markdown",
   "id": "0d2e51cf",
   "metadata": {},
   "source": [
    "## Analyzing Gun Deaths in the United States (2012-2014)"
   ]
  },
  {
   "cell_type": "markdown",
   "id": "b48e42b8",
   "metadata": {},
   "source": [
    "This study analyzes gun deaths in the United States of America between \n",
    "2012 and 2014.\n",
    "This case study will try to answer the following questions:\n",
    "• What is the number of annual suicide gun deaths in the \n",
    "United States from 2012 to 2014, by gender?\n",
    "• What is the number of gun deaths by race in the United \n",
    "States per 100,000 people from 2012 to 2014?\n",
    "• What is the annual number of gun deaths in the United \n",
    "States on average from 2012 to 2014, by cause?\n",
    "• What is the percentage per 100,000 people of annual \n",
    "gun deaths in the United States from 2012 to 2014, by \n",
    "cause?\n",
    "• What is the percentage of annual suicide gun deaths in \n",
    "the United States from 2012 to 2014, by year?"
   ]
  },
  {
   "cell_type": "code",
   "execution_count": 1,
   "id": "81d06955",
   "metadata": {},
   "outputs": [],
   "source": [
    "import pandas as pd\n",
    "import numpy as np\n",
    "import matplotlib.pyplot as plt\n",
    "import seaborn as sns"
   ]
  },
  {
   "cell_type": "code",
   "execution_count": 2,
   "id": "d697d32f",
   "metadata": {},
   "outputs": [],
   "source": [
    "dataset = pd.read_csv('Death data.csv', index_col=0)"
   ]
  },
  {
   "cell_type": "code",
   "execution_count": 3,
   "id": "37a838f5",
   "metadata": {},
   "outputs": [
    {
     "data": {
      "text/plain": [
       "(100798, 10)"
      ]
     },
     "execution_count": 3,
     "metadata": {},
     "output_type": "execute_result"
    }
   ],
   "source": [
    "dataset.shape"
   ]
  },
  {
   "cell_type": "code",
   "execution_count": 4,
   "id": "cca0a134",
   "metadata": {},
   "outputs": [
    {
     "data": {
      "text/html": [
       "<div>\n",
       "<style scoped>\n",
       "    .dataframe tbody tr th:only-of-type {\n",
       "        vertical-align: middle;\n",
       "    }\n",
       "\n",
       "    .dataframe tbody tr th {\n",
       "        vertical-align: top;\n",
       "    }\n",
       "\n",
       "    .dataframe thead th {\n",
       "        text-align: right;\n",
       "    }\n",
       "</style>\n",
       "<table border=\"1\" class=\"dataframe\">\n",
       "  <thead>\n",
       "    <tr style=\"text-align: right;\">\n",
       "      <th></th>\n",
       "      <th>year</th>\n",
       "      <th>month</th>\n",
       "      <th>intent</th>\n",
       "      <th>police</th>\n",
       "      <th>sex</th>\n",
       "      <th>age</th>\n",
       "      <th>race</th>\n",
       "      <th>hispanic</th>\n",
       "      <th>place</th>\n",
       "      <th>education</th>\n",
       "    </tr>\n",
       "  </thead>\n",
       "  <tbody>\n",
       "    <tr>\n",
       "      <th>1</th>\n",
       "      <td>2012</td>\n",
       "      <td>1</td>\n",
       "      <td>Suicide</td>\n",
       "      <td>0</td>\n",
       "      <td>M</td>\n",
       "      <td>34.0</td>\n",
       "      <td>Asian/Pacific Islander</td>\n",
       "      <td>100</td>\n",
       "      <td>Home</td>\n",
       "      <td>BA+</td>\n",
       "    </tr>\n",
       "    <tr>\n",
       "      <th>2</th>\n",
       "      <td>2012</td>\n",
       "      <td>1</td>\n",
       "      <td>Suicide</td>\n",
       "      <td>0</td>\n",
       "      <td>F</td>\n",
       "      <td>21.0</td>\n",
       "      <td>White</td>\n",
       "      <td>100</td>\n",
       "      <td>Street</td>\n",
       "      <td>Some college</td>\n",
       "    </tr>\n",
       "  </tbody>\n",
       "</table>\n",
       "</div>"
      ],
      "text/plain": [
       "   year  month   intent  police sex   age                    race  hispanic  \\\n",
       "1  2012      1  Suicide       0   M  34.0  Asian/Pacific Islander       100   \n",
       "2  2012      1  Suicide       0   F  21.0                   White       100   \n",
       "\n",
       "    place     education  \n",
       "1    Home           BA+  \n",
       "2  Street  Some college  "
      ]
     },
     "execution_count": 4,
     "metadata": {},
     "output_type": "execute_result"
    }
   ],
   "source": [
    "dataset.head(2)"
   ]
  },
  {
   "cell_type": "code",
   "execution_count": 5,
   "id": "dffe7047",
   "metadata": {},
   "outputs": [
    {
     "data": {
      "text/plain": [
       "year\n",
       "2013    33636\n",
       "2014    33599\n",
       "2012    33563\n",
       "Name: count, dtype: int64"
      ]
     },
     "execution_count": 5,
     "metadata": {},
     "output_type": "execute_result"
    }
   ],
   "source": [
    "dataset.year.value_counts()"
   ]
  },
  {
   "cell_type": "code",
   "execution_count": 8,
   "id": "91b3035c",
   "metadata": {},
   "outputs": [],
   "source": [
    "# organize the dataset by year and then month\n",
    "dataset_Gun = dataset\n",
    "dataset_Gun.sort_values(['year','month'], inplace=True)"
   ]
  },
  {
   "cell_type": "code",
   "execution_count": 9,
   "id": "f542edc2",
   "metadata": {},
   "outputs": [
    {
     "data": {
      "text/html": [
       "<div>\n",
       "<style scoped>\n",
       "    .dataframe tbody tr th:only-of-type {\n",
       "        vertical-align: middle;\n",
       "    }\n",
       "\n",
       "    .dataframe tbody tr th {\n",
       "        vertical-align: top;\n",
       "    }\n",
       "\n",
       "    .dataframe thead th {\n",
       "        text-align: right;\n",
       "    }\n",
       "</style>\n",
       "<table border=\"1\" class=\"dataframe\">\n",
       "  <thead>\n",
       "    <tr style=\"text-align: right;\">\n",
       "      <th></th>\n",
       "      <th>year</th>\n",
       "      <th>month</th>\n",
       "      <th>intent</th>\n",
       "      <th>police</th>\n",
       "      <th>sex</th>\n",
       "      <th>age</th>\n",
       "      <th>race</th>\n",
       "      <th>hispanic</th>\n",
       "      <th>place</th>\n",
       "      <th>education</th>\n",
       "    </tr>\n",
       "  </thead>\n",
       "  <tbody>\n",
       "    <tr>\n",
       "      <th>1</th>\n",
       "      <td>2012</td>\n",
       "      <td>1</td>\n",
       "      <td>Suicide</td>\n",
       "      <td>0</td>\n",
       "      <td>M</td>\n",
       "      <td>34.0</td>\n",
       "      <td>Asian/Pacific Islander</td>\n",
       "      <td>100</td>\n",
       "      <td>Home</td>\n",
       "      <td>BA+</td>\n",
       "    </tr>\n",
       "    <tr>\n",
       "      <th>2</th>\n",
       "      <td>2012</td>\n",
       "      <td>1</td>\n",
       "      <td>Suicide</td>\n",
       "      <td>0</td>\n",
       "      <td>F</td>\n",
       "      <td>21.0</td>\n",
       "      <td>White</td>\n",
       "      <td>100</td>\n",
       "      <td>Street</td>\n",
       "      <td>Some college</td>\n",
       "    </tr>\n",
       "    <tr>\n",
       "      <th>3</th>\n",
       "      <td>2012</td>\n",
       "      <td>1</td>\n",
       "      <td>Suicide</td>\n",
       "      <td>0</td>\n",
       "      <td>M</td>\n",
       "      <td>60.0</td>\n",
       "      <td>White</td>\n",
       "      <td>100</td>\n",
       "      <td>Other specified</td>\n",
       "      <td>BA+</td>\n",
       "    </tr>\n",
       "    <tr>\n",
       "      <th>12</th>\n",
       "      <td>2012</td>\n",
       "      <td>1</td>\n",
       "      <td>Suicide</td>\n",
       "      <td>0</td>\n",
       "      <td>M</td>\n",
       "      <td>21.0</td>\n",
       "      <td>Native American/Native Alaskan</td>\n",
       "      <td>100</td>\n",
       "      <td>Home</td>\n",
       "      <td>HS/GED</td>\n",
       "    </tr>\n",
       "    <tr>\n",
       "      <th>135</th>\n",
       "      <td>2012</td>\n",
       "      <td>1</td>\n",
       "      <td>Suicide</td>\n",
       "      <td>0</td>\n",
       "      <td>F</td>\n",
       "      <td>59.0</td>\n",
       "      <td>White</td>\n",
       "      <td>100</td>\n",
       "      <td>Home</td>\n",
       "      <td>HS/GED</td>\n",
       "    </tr>\n",
       "    <tr>\n",
       "      <th>...</th>\n",
       "      <td>...</td>\n",
       "      <td>...</td>\n",
       "      <td>...</td>\n",
       "      <td>...</td>\n",
       "      <td>...</td>\n",
       "      <td>...</td>\n",
       "      <td>...</td>\n",
       "      <td>...</td>\n",
       "      <td>...</td>\n",
       "      <td>...</td>\n",
       "    </tr>\n",
       "    <tr>\n",
       "      <th>100793</th>\n",
       "      <td>2014</td>\n",
       "      <td>12</td>\n",
       "      <td>Homicide</td>\n",
       "      <td>0</td>\n",
       "      <td>M</td>\n",
       "      <td>31.0</td>\n",
       "      <td>Black</td>\n",
       "      <td>100</td>\n",
       "      <td>Other specified</td>\n",
       "      <td>HS/GED</td>\n",
       "    </tr>\n",
       "    <tr>\n",
       "      <th>100794</th>\n",
       "      <td>2014</td>\n",
       "      <td>12</td>\n",
       "      <td>Homicide</td>\n",
       "      <td>0</td>\n",
       "      <td>M</td>\n",
       "      <td>36.0</td>\n",
       "      <td>Black</td>\n",
       "      <td>100</td>\n",
       "      <td>Home</td>\n",
       "      <td>HS/GED</td>\n",
       "    </tr>\n",
       "    <tr>\n",
       "      <th>100795</th>\n",
       "      <td>2014</td>\n",
       "      <td>12</td>\n",
       "      <td>Homicide</td>\n",
       "      <td>0</td>\n",
       "      <td>M</td>\n",
       "      <td>19.0</td>\n",
       "      <td>Black</td>\n",
       "      <td>100</td>\n",
       "      <td>Street</td>\n",
       "      <td>HS/GED</td>\n",
       "    </tr>\n",
       "    <tr>\n",
       "      <th>100796</th>\n",
       "      <td>2014</td>\n",
       "      <td>12</td>\n",
       "      <td>Homicide</td>\n",
       "      <td>0</td>\n",
       "      <td>M</td>\n",
       "      <td>20.0</td>\n",
       "      <td>Black</td>\n",
       "      <td>100</td>\n",
       "      <td>Street</td>\n",
       "      <td>HS/GED</td>\n",
       "    </tr>\n",
       "    <tr>\n",
       "      <th>100797</th>\n",
       "      <td>2014</td>\n",
       "      <td>12</td>\n",
       "      <td>Homicide</td>\n",
       "      <td>0</td>\n",
       "      <td>M</td>\n",
       "      <td>22.0</td>\n",
       "      <td>Hispanic</td>\n",
       "      <td>260</td>\n",
       "      <td>Street</td>\n",
       "      <td>Less than HS</td>\n",
       "    </tr>\n",
       "  </tbody>\n",
       "</table>\n",
       "<p>100798 rows × 10 columns</p>\n",
       "</div>"
      ],
      "text/plain": [
       "        year  month    intent  police sex   age  \\\n",
       "1       2012      1   Suicide       0   M  34.0   \n",
       "2       2012      1   Suicide       0   F  21.0   \n",
       "3       2012      1   Suicide       0   M  60.0   \n",
       "12      2012      1   Suicide       0   M  21.0   \n",
       "135     2012      1   Suicide       0   F  59.0   \n",
       "...      ...    ...       ...     ...  ..   ...   \n",
       "100793  2014     12  Homicide       0   M  31.0   \n",
       "100794  2014     12  Homicide       0   M  36.0   \n",
       "100795  2014     12  Homicide       0   M  19.0   \n",
       "100796  2014     12  Homicide       0   M  20.0   \n",
       "100797  2014     12  Homicide       0   M  22.0   \n",
       "\n",
       "                                  race  hispanic            place  \\\n",
       "1               Asian/Pacific Islander       100             Home   \n",
       "2                                White       100           Street   \n",
       "3                                White       100  Other specified   \n",
       "12      Native American/Native Alaskan       100             Home   \n",
       "135                              White       100             Home   \n",
       "...                                ...       ...              ...   \n",
       "100793                           Black       100  Other specified   \n",
       "100794                           Black       100             Home   \n",
       "100795                           Black       100           Street   \n",
       "100796                           Black       100           Street   \n",
       "100797                        Hispanic       260           Street   \n",
       "\n",
       "           education  \n",
       "1                BA+  \n",
       "2       Some college  \n",
       "3                BA+  \n",
       "12            HS/GED  \n",
       "135           HS/GED  \n",
       "...              ...  \n",
       "100793        HS/GED  \n",
       "100794        HS/GED  \n",
       "100795        HS/GED  \n",
       "100796        HS/GED  \n",
       "100797  Less than HS  \n",
       "\n",
       "[100798 rows x 10 columns]"
      ]
     },
     "execution_count": 9,
     "metadata": {},
     "output_type": "execute_result"
    }
   ],
   "source": [
    "dataset_Gun"
   ]
  },
  {
   "cell_type": "markdown",
   "id": "a881651b",
   "metadata": {},
   "source": [
    "## Data Analysis"
   ]
  },
  {
   "cell_type": "code",
   "execution_count": 10,
   "id": "1528148d",
   "metadata": {},
   "outputs": [
    {
     "name": "stdout",
     "output_type": "stream",
     "text": [
      "<class 'pandas.core.frame.DataFrame'>\n",
      "Index: 100798 entries, 1 to 100797\n",
      "Data columns (total 10 columns):\n",
      " #   Column     Non-Null Count   Dtype  \n",
      "---  ------     --------------   -----  \n",
      " 0   year       100798 non-null  int64  \n",
      " 1   month      100798 non-null  int64  \n",
      " 2   intent     100797 non-null  object \n",
      " 3   police     100798 non-null  int64  \n",
      " 4   sex        100798 non-null  object \n",
      " 5   age        100780 non-null  float64\n",
      " 6   race       100798 non-null  object \n",
      " 7   hispanic   100798 non-null  int64  \n",
      " 8   place      99414 non-null   object \n",
      " 9   education  99376 non-null   object \n",
      "dtypes: float64(1), int64(4), object(5)\n",
      "memory usage: 8.5+ MB\n"
     ]
    }
   ],
   "source": [
    "dataset.info()"
   ]
  },
  {
   "cell_type": "code",
   "execution_count": 12,
   "id": "cab98e10",
   "metadata": {},
   "outputs": [
    {
     "data": {
      "text/html": [
       "<div>\n",
       "<style scoped>\n",
       "    .dataframe tbody tr th:only-of-type {\n",
       "        vertical-align: middle;\n",
       "    }\n",
       "\n",
       "    .dataframe tbody tr th {\n",
       "        vertical-align: top;\n",
       "    }\n",
       "\n",
       "    .dataframe thead th {\n",
       "        text-align: right;\n",
       "    }\n",
       "</style>\n",
       "<table border=\"1\" class=\"dataframe\">\n",
       "  <thead>\n",
       "    <tr style=\"text-align: right;\">\n",
       "      <th></th>\n",
       "      <th>year</th>\n",
       "      <th>month</th>\n",
       "      <th>police</th>\n",
       "      <th>age</th>\n",
       "      <th>hispanic</th>\n",
       "    </tr>\n",
       "  </thead>\n",
       "  <tbody>\n",
       "    <tr>\n",
       "      <th>count</th>\n",
       "      <td>100798.000000</td>\n",
       "      <td>100798.000000</td>\n",
       "      <td>100798.000000</td>\n",
       "      <td>100780.000000</td>\n",
       "      <td>100798.000000</td>\n",
       "    </tr>\n",
       "    <tr>\n",
       "      <th>mean</th>\n",
       "      <td>2013.000357</td>\n",
       "      <td>6.567601</td>\n",
       "      <td>0.013909</td>\n",
       "      <td>43.857601</td>\n",
       "      <td>114.179607</td>\n",
       "    </tr>\n",
       "    <tr>\n",
       "      <th>std</th>\n",
       "      <td>0.816278</td>\n",
       "      <td>3.405609</td>\n",
       "      <td>0.117114</td>\n",
       "      <td>19.496181</td>\n",
       "      <td>61.595734</td>\n",
       "    </tr>\n",
       "    <tr>\n",
       "      <th>min</th>\n",
       "      <td>2012.000000</td>\n",
       "      <td>1.000000</td>\n",
       "      <td>0.000000</td>\n",
       "      <td>0.000000</td>\n",
       "      <td>100.000000</td>\n",
       "    </tr>\n",
       "    <tr>\n",
       "      <th>25%</th>\n",
       "      <td>2012.000000</td>\n",
       "      <td>4.000000</td>\n",
       "      <td>0.000000</td>\n",
       "      <td>27.000000</td>\n",
       "      <td>100.000000</td>\n",
       "    </tr>\n",
       "    <tr>\n",
       "      <th>50%</th>\n",
       "      <td>2013.000000</td>\n",
       "      <td>7.000000</td>\n",
       "      <td>0.000000</td>\n",
       "      <td>42.000000</td>\n",
       "      <td>100.000000</td>\n",
       "    </tr>\n",
       "    <tr>\n",
       "      <th>75%</th>\n",
       "      <td>2014.000000</td>\n",
       "      <td>9.000000</td>\n",
       "      <td>0.000000</td>\n",
       "      <td>58.000000</td>\n",
       "      <td>100.000000</td>\n",
       "    </tr>\n",
       "    <tr>\n",
       "      <th>max</th>\n",
       "      <td>2014.000000</td>\n",
       "      <td>12.000000</td>\n",
       "      <td>1.000000</td>\n",
       "      <td>107.000000</td>\n",
       "      <td>998.000000</td>\n",
       "    </tr>\n",
       "  </tbody>\n",
       "</table>\n",
       "</div>"
      ],
      "text/plain": [
       "                year          month         police            age  \\\n",
       "count  100798.000000  100798.000000  100798.000000  100780.000000   \n",
       "mean     2013.000357       6.567601       0.013909      43.857601   \n",
       "std         0.816278       3.405609       0.117114      19.496181   \n",
       "min      2012.000000       1.000000       0.000000       0.000000   \n",
       "25%      2012.000000       4.000000       0.000000      27.000000   \n",
       "50%      2013.000000       7.000000       0.000000      42.000000   \n",
       "75%      2014.000000       9.000000       0.000000      58.000000   \n",
       "max      2014.000000      12.000000       1.000000     107.000000   \n",
       "\n",
       "            hispanic  \n",
       "count  100798.000000  \n",
       "mean      114.179607  \n",
       "std        61.595734  \n",
       "min       100.000000  \n",
       "25%       100.000000  \n",
       "50%       100.000000  \n",
       "75%       100.000000  \n",
       "max       998.000000  "
      ]
     },
     "execution_count": 12,
     "metadata": {},
     "output_type": "execute_result"
    }
   ],
   "source": [
    "dataset.describe()"
   ]
  },
  {
   "cell_type": "markdown",
   "id": "9bf90251",
   "metadata": {},
   "source": [
    "### Q1. How many males and females are included in this study?"
   ]
  },
  {
   "cell_type": "code",
   "execution_count": 14,
   "id": "139980c8",
   "metadata": {},
   "outputs": [
    {
     "data": {
      "text/plain": [
       "sex\n",
       "F    14449\n",
       "M    86349\n",
       "Name: sex, dtype: int64"
      ]
     },
     "execution_count": 14,
     "metadata": {},
     "output_type": "execute_result"
    }
   ],
   "source": [
    "dataset.groupby('sex')['sex'].count()"
   ]
  },
  {
   "cell_type": "markdown",
   "id": "a0175021",
   "metadata": {},
   "source": [
    "#### OR"
   ]
  },
  {
   "cell_type": "code",
   "execution_count": 15,
   "id": "f4e895cd",
   "metadata": {},
   "outputs": [
    {
     "data": {
      "text/plain": [
       "sex\n",
       "M    86349\n",
       "F    14449\n",
       "Name: count, dtype: int64"
      ]
     },
     "execution_count": 15,
     "metadata": {},
     "output_type": "execute_result"
    }
   ],
   "source": [
    "dataset['sex'].value_counts()"
   ]
  },
  {
   "cell_type": "markdown",
   "id": "e430c02a",
   "metadata": {},
   "source": [
    "### Q2. How many educated females are included in this study?"
   ]
  },
  {
   "cell_type": "code",
   "execution_count": 16,
   "id": "9914264a",
   "metadata": {},
   "outputs": [
    {
     "data": {
      "text/plain": [
       "1                  BA+\n",
       "2         Some college\n",
       "3                  BA+\n",
       "12              HS/GED\n",
       "135             HS/GED\n",
       "              ...     \n",
       "100793          HS/GED\n",
       "100794          HS/GED\n",
       "100795          HS/GED\n",
       "100796          HS/GED\n",
       "100797    Less than HS\n",
       "Name: education, Length: 100798, dtype: object"
      ]
     },
     "execution_count": 16,
     "metadata": {},
     "output_type": "execute_result"
    }
   ],
   "source": [
    "dataset.education"
   ]
  },
  {
   "cell_type": "code",
   "execution_count": 18,
   "id": "4050dfcb",
   "metadata": {},
   "outputs": [
    {
     "data": {
      "text/plain": [
       "Index(['year', 'month', 'intent', 'police', 'sex', 'age', 'race', 'hispanic',\n",
       "       'place', 'education'],\n",
       "      dtype='object')"
      ]
     },
     "execution_count": 18,
     "metadata": {},
     "output_type": "execute_result"
    }
   ],
   "source": [
    "dataset.columns"
   ]
  },
  {
   "cell_type": "code",
   "execution_count": 20,
   "id": "e0b88093",
   "metadata": {},
   "outputs": [
    {
     "data": {
      "text/plain": [
       "sex  education   \n",
       "M    HS/GED          37339\n",
       "     Less than HS    19444\n",
       "     Some college    17750\n",
       "     BA+             10600\n",
       "F    HS/GED           5588\n",
       "     Some college     3930\n",
       "     Less than HS     2379\n",
       "     BA+              2346\n",
       "Name: count, dtype: int64"
      ]
     },
     "execution_count": 20,
     "metadata": {},
     "output_type": "execute_result"
    }
   ],
   "source": [
    "dataset[['sex','education']].value_counts()"
   ]
  },
  {
   "cell_type": "code",
   "execution_count": 25,
   "id": "458e6df7",
   "metadata": {},
   "outputs": [
    {
     "data": {
      "text/html": [
       "<div>\n",
       "<style scoped>\n",
       "    .dataframe tbody tr th:only-of-type {\n",
       "        vertical-align: middle;\n",
       "    }\n",
       "\n",
       "    .dataframe tbody tr th {\n",
       "        vertical-align: top;\n",
       "    }\n",
       "\n",
       "    .dataframe thead th {\n",
       "        text-align: right;\n",
       "    }\n",
       "</style>\n",
       "<table border=\"1\" class=\"dataframe\">\n",
       "  <thead>\n",
       "    <tr style=\"text-align: right;\">\n",
       "      <th></th>\n",
       "      <th>year</th>\n",
       "      <th>month</th>\n",
       "      <th>intent</th>\n",
       "      <th>police</th>\n",
       "      <th>age</th>\n",
       "      <th>race</th>\n",
       "      <th>hispanic</th>\n",
       "      <th>place</th>\n",
       "      <th>education</th>\n",
       "    </tr>\n",
       "    <tr>\n",
       "      <th>sex</th>\n",
       "      <th></th>\n",
       "      <th></th>\n",
       "      <th></th>\n",
       "      <th></th>\n",
       "      <th></th>\n",
       "      <th></th>\n",
       "      <th></th>\n",
       "      <th></th>\n",
       "      <th></th>\n",
       "    </tr>\n",
       "  </thead>\n",
       "  <tbody>\n",
       "    <tr>\n",
       "      <th>F</th>\n",
       "      <td>14449</td>\n",
       "      <td>14449</td>\n",
       "      <td>14449</td>\n",
       "      <td>14449</td>\n",
       "      <td>14446</td>\n",
       "      <td>14449</td>\n",
       "      <td>14449</td>\n",
       "      <td>14386</td>\n",
       "      <td>14243</td>\n",
       "    </tr>\n",
       "    <tr>\n",
       "      <th>M</th>\n",
       "      <td>86349</td>\n",
       "      <td>86349</td>\n",
       "      <td>86348</td>\n",
       "      <td>86349</td>\n",
       "      <td>86334</td>\n",
       "      <td>86349</td>\n",
       "      <td>86349</td>\n",
       "      <td>85028</td>\n",
       "      <td>85133</td>\n",
       "    </tr>\n",
       "  </tbody>\n",
       "</table>\n",
       "</div>"
      ],
      "text/plain": [
       "      year  month  intent  police    age   race  hispanic  place  education\n",
       "sex                                                                        \n",
       "F    14449  14449   14449   14449  14446  14449     14449  14386      14243\n",
       "M    86349  86349   86348   86349  86334  86349     86349  85028      85133"
      ]
     },
     "execution_count": 25,
     "metadata": {},
     "output_type": "execute_result"
    }
   ],
   "source": [
    "dataset.groupby('sex').count()"
   ]
  },
  {
   "cell_type": "markdown",
   "id": "cff725ed",
   "metadata": {},
   "source": [
    "### Data Visualization"
   ]
  },
  {
   "cell_type": "markdown",
   "id": "19ef2d35",
   "metadata": {},
   "source": [
    "### Q3 What is the number of suicide gun deaths in the United States from 2012 to 2014, by gender?"
   ]
  },
  {
   "cell_type": "code",
   "execution_count": 29,
   "id": "97cafe80",
   "metadata": {},
   "outputs": [
    {
     "data": {
      "text/html": [
       "<div>\n",
       "<style scoped>\n",
       "    .dataframe tbody tr th:only-of-type {\n",
       "        vertical-align: middle;\n",
       "    }\n",
       "\n",
       "    .dataframe tbody tr th {\n",
       "        vertical-align: top;\n",
       "    }\n",
       "\n",
       "    .dataframe thead th {\n",
       "        text-align: right;\n",
       "    }\n",
       "</style>\n",
       "<table border=\"1\" class=\"dataframe\">\n",
       "  <thead>\n",
       "    <tr style=\"text-align: right;\">\n",
       "      <th></th>\n",
       "      <th></th>\n",
       "      <th>year</th>\n",
       "      <th>month</th>\n",
       "      <th>police</th>\n",
       "      <th>age</th>\n",
       "      <th>race</th>\n",
       "      <th>hispanic</th>\n",
       "      <th>place</th>\n",
       "      <th>education</th>\n",
       "    </tr>\n",
       "    <tr>\n",
       "      <th>sex</th>\n",
       "      <th>intent</th>\n",
       "      <th></th>\n",
       "      <th></th>\n",
       "      <th></th>\n",
       "      <th></th>\n",
       "      <th></th>\n",
       "      <th></th>\n",
       "      <th></th>\n",
       "      <th></th>\n",
       "    </tr>\n",
       "  </thead>\n",
       "  <tbody>\n",
       "    <tr>\n",
       "      <th rowspan=\"4\" valign=\"top\">F</th>\n",
       "      <th>Accidental</th>\n",
       "      <td>218</td>\n",
       "      <td>218</td>\n",
       "      <td>218</td>\n",
       "      <td>218</td>\n",
       "      <td>218</td>\n",
       "      <td>218</td>\n",
       "      <td>218</td>\n",
       "      <td>208</td>\n",
       "    </tr>\n",
       "    <tr>\n",
       "      <th>Homicide</th>\n",
       "      <td>5373</td>\n",
       "      <td>5373</td>\n",
       "      <td>5373</td>\n",
       "      <td>5372</td>\n",
       "      <td>5373</td>\n",
       "      <td>5373</td>\n",
       "      <td>5310</td>\n",
       "      <td>5288</td>\n",
       "    </tr>\n",
       "    <tr>\n",
       "      <th>Suicide</th>\n",
       "      <td>8689</td>\n",
       "      <td>8689</td>\n",
       "      <td>8689</td>\n",
       "      <td>8687</td>\n",
       "      <td>8689</td>\n",
       "      <td>8689</td>\n",
       "      <td>8689</td>\n",
       "      <td>8579</td>\n",
       "    </tr>\n",
       "    <tr>\n",
       "      <th>Undetermined</th>\n",
       "      <td>169</td>\n",
       "      <td>169</td>\n",
       "      <td>169</td>\n",
       "      <td>169</td>\n",
       "      <td>169</td>\n",
       "      <td>169</td>\n",
       "      <td>169</td>\n",
       "      <td>168</td>\n",
       "    </tr>\n",
       "    <tr>\n",
       "      <th rowspan=\"4\" valign=\"top\">M</th>\n",
       "      <th>Accidental</th>\n",
       "      <td>1421</td>\n",
       "      <td>1421</td>\n",
       "      <td>1421</td>\n",
       "      <td>1420</td>\n",
       "      <td>1421</td>\n",
       "      <td>1421</td>\n",
       "      <td>1421</td>\n",
       "      <td>1390</td>\n",
       "    </tr>\n",
       "    <tr>\n",
       "      <th>Homicide</th>\n",
       "      <td>29803</td>\n",
       "      <td>29803</td>\n",
       "      <td>29803</td>\n",
       "      <td>29795</td>\n",
       "      <td>29803</td>\n",
       "      <td>29803</td>\n",
       "      <td>28483</td>\n",
       "      <td>29399</td>\n",
       "    </tr>\n",
       "    <tr>\n",
       "      <th>Suicide</th>\n",
       "      <td>54486</td>\n",
       "      <td>54486</td>\n",
       "      <td>54486</td>\n",
       "      <td>54481</td>\n",
       "      <td>54486</td>\n",
       "      <td>54486</td>\n",
       "      <td>54486</td>\n",
       "      <td>53714</td>\n",
       "    </tr>\n",
       "    <tr>\n",
       "      <th>Undetermined</th>\n",
       "      <td>638</td>\n",
       "      <td>638</td>\n",
       "      <td>638</td>\n",
       "      <td>637</td>\n",
       "      <td>638</td>\n",
       "      <td>638</td>\n",
       "      <td>638</td>\n",
       "      <td>629</td>\n",
       "    </tr>\n",
       "  </tbody>\n",
       "</table>\n",
       "</div>"
      ],
      "text/plain": [
       "                   year  month  police    age   race  hispanic  place  \\\n",
       "sex intent                                                              \n",
       "F   Accidental      218    218     218    218    218       218    218   \n",
       "    Homicide       5373   5373    5373   5372   5373      5373   5310   \n",
       "    Suicide        8689   8689    8689   8687   8689      8689   8689   \n",
       "    Undetermined    169    169     169    169    169       169    169   \n",
       "M   Accidental     1421   1421    1421   1420   1421      1421   1421   \n",
       "    Homicide      29803  29803   29803  29795  29803     29803  28483   \n",
       "    Suicide       54486  54486   54486  54481  54486     54486  54486   \n",
       "    Undetermined    638    638     638    637    638       638    638   \n",
       "\n",
       "                  education  \n",
       "sex intent                   \n",
       "F   Accidental          208  \n",
       "    Homicide           5288  \n",
       "    Suicide            8579  \n",
       "    Undetermined        168  \n",
       "M   Accidental         1390  \n",
       "    Homicide          29399  \n",
       "    Suicide           53714  \n",
       "    Undetermined        629  "
      ]
     },
     "execution_count": 29,
     "metadata": {},
     "output_type": "execute_result"
    }
   ],
   "source": [
    "dataset.groupby(['sex','intent']).count()"
   ]
  },
  {
   "cell_type": "code",
   "execution_count": 38,
   "id": "ba2bf6ac",
   "metadata": {},
   "outputs": [
    {
     "data": {
      "text/plain": [
       "<AxesSubplot:title={'center':'Annual U.S.\\\\suicide gun deaths \\n 2012-2014, by gender'}, xlabel='sex'>"
      ]
     },
     "execution_count": 38,
     "metadata": {},
     "output_type": "execute_result"
    },
    {
     "data": {
      "image/png": "[encoded data removed]",
      "text/plain": [
       "<Figure size 432x288 with 1 Axes>"
      ]
     },
     "metadata": {
      "needs_background": "light"
     },
     "output_type": "display_data"
    }
   ],
   "source": [
    "dataset_suicide_Gender =dataset_Gun[dataset_Gun[\"intent\"] ==\"Suicide\"]\n",
    "dataset_suicide_Gender.sex.value_counts().plot.bar(title='Annual U.S.\\\\suicide gun deaths \\n 2012-2014, by gender')"
   ]
  },
  {
   "cell_type": "code",
   "execution_count": 40,
   "id": "de5ef494",
   "metadata": {},
   "outputs": [
    {
     "data": {
      "text/plain": [
       "sex\n",
       "M    54486\n",
       "F     8689\n",
       "Name: count, dtype: int64"
      ]
     },
     "execution_count": 40,
     "metadata": {},
     "output_type": "execute_result"
    }
   ],
   "source": [
    "dataset_suicide_Gender.sex.value_counts()"
   ]
  },
  {
   "cell_type": "markdown",
   "id": "8e616234",
   "metadata": {},
   "source": [
    "It’s clear that there are huge differences between males and females. \n",
    "The number of male suicides by gun is above 50,000, while the female \n",
    "death rate is below 10,000, which shows how males are more likely to \n",
    "commit suicide using a gun."
   ]
  },
  {
   "cell_type": "markdown",
   "id": "90c38f6d",
   "metadata": {},
   "source": [
    "### Q4. What is the number of gun deaths by race in the United States per 100,000 people from 2012 to 2014?"
   ]
  },
  {
   "cell_type": "code",
   "execution_count": 51,
   "id": "eb376fd2",
   "metadata": {},
   "outputs": [],
   "source": [
    " dataset_byRace = dataset.race.value_counts()"
   ]
  },
  {
   "cell_type": "code",
   "execution_count": 53,
   "id": "06b3ef2d",
   "metadata": {},
   "outputs": [],
   "source": [
    "dataset_byRace = (dataset_byRace*100)/100000"
   ]
  },
  {
   "cell_type": "code",
   "execution_count": 54,
   "id": "6b9bfa79",
   "metadata": {},
   "outputs": [
    {
     "data": {
      "text/plain": [
       "race\n",
       "White                             66.237\n",
       "Black                             23.296\n",
       "Hispanic                           9.022\n",
       "Asian/Pacific Islander             1.326\n",
       "Native American/Native Alaskan     0.917\n",
       "Name: count, dtype: float64"
      ]
     },
     "execution_count": 54,
     "metadata": {},
     "output_type": "execute_result"
    }
   ],
   "source": [
    "dataset_byRace"
   ]
  },
  {
   "cell_type": "code",
   "execution_count": 56,
   "id": "29a7193b",
   "metadata": {},
   "outputs": [
    {
     "data": {
      "text/plain": [
       "<AxesSubplot:title={'center':'Percent death toll from guns in the United States \\nfrom 2012 to 2014, by race'}, xlabel='race'>"
      ]
     },
     "execution_count": 56,
     "metadata": {},
     "output_type": "execute_result"
    },
    {
     "data": {
      "image/png": "[encoded data removed]",
      "text/plain": [
       "<Figure size 432x288 with 1 Axes>"
      ]
     },
     "metadata": {
      "needs_background": "light"
     },
     "output_type": "display_data"
    }
   ],
   "source": [
    "dataset_byRace.plot.bar(title='Percent death toll from guns in \\\n",
    "the United States \\nfrom 2012 to 2014, by race')"
   ]
  },
  {
   "cell_type": "markdown",
   "id": "44a9869f",
   "metadata": {},
   "source": [
    "### Q5 What is the number of gun deaths in the United States on average from 2012 to 2014, by cause?"
   ]
  },
  {
   "cell_type": "code",
   "execution_count": 62,
   "id": "4410829e",
   "metadata": {},
   "outputs": [],
   "source": [
    "dataset1 = (dataset.intent.value_counts()*100)/100000"
   ]
  },
  {
   "cell_type": "code",
   "execution_count": 63,
   "id": "08ea3956",
   "metadata": {},
   "outputs": [
    {
     "data": {
      "text/plain": [
       "intent\n",
       "Suicide         63.175\n",
       "Homicide        35.176\n",
       "Accidental       1.639\n",
       "Undetermined     0.807\n",
       "Name: count, dtype: float64"
      ]
     },
     "execution_count": 63,
     "metadata": {},
     "output_type": "execute_result"
    }
   ],
   "source": [
    "dataset1"
   ]
  },
  {
   "cell_type": "code",
   "execution_count": 64,
   "id": "44c6f703",
   "metadata": {},
   "outputs": [
    {
     "data": {
      "text/plain": [
       "<AxesSubplot:title={'center':'Annual number of gun deaths in the United States on average \\n from 2012 to 2014, by cause'}, xlabel='intent'>"
      ]
     },
     "execution_count": 64,
     "metadata": {},
     "output_type": "execute_result"
    },
    {
     "data": {
      "image/png": "[encoded data removed]",
      "text/plain": [
       "<Figure size 432x288 with 1 Axes>"
      ]
     },
     "metadata": {
      "needs_background": "light"
     },
     "output_type": "display_data"
    }
   ],
   "source": [
    "dataset1.plot.bar(title='Annual number of gun deaths in the United States on \\\n",
    "average \\n from 2012 to 2014, by cause')"
   ]
  },
  {
   "cell_type": "code",
   "execution_count": null,
   "id": "067b6ba7",
   "metadata": {},
   "outputs": [],
   "source": []
  }
 ],
 "metadata": {
  "kernelspec": {
   "display_name": "Python 3",
   "language": "python",
   "name": "python3"
  },
  "language_info": {
   "codemirror_mode": {
    "name": "ipython",
    "version": 3
   },
   "file_extension": ".py",
   "mimetype": "text/x-python",
   "name": "python",
   "nbconvert_exporter": "python",
   "pygments_lexer": "ipython3",
   "version": "3.8.8"
  }
 },
 "nbformat": 4,
 "nbformat_minor": 5
}
