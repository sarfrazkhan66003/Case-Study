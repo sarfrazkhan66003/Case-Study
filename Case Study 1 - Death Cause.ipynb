{
 "cells": [
  {
   "cell_type": "markdown",
   "id": "457dcbb7",
   "metadata": {},
   "source": [
    "### This study analyses the leading causes of death in the United States of America between 1999 and 2017"
   ]
  },
  {
   "cell_type": "markdown",
   "id": "1a1e78bb",
   "metadata": {},
   "source": [
    "This case study will try to answer the following questions:-\n",
    "\n",
    "\n",
    "• What is the total number of records in the dataset?\n",
    "• What were the causes of death in this data set?\n",
    "• How many states in this data set?\n",
    "• What was the total number of deaths in the United \n",
    "  States from 1999 to 2017?\n",
    "• What is the number of deaths per each year from 1999 \n",
    "  to 2017?\n",
    "• Which ten states had the highest number of deaths \n",
    "  overall?\n",
    "• What were the top causes of deaths in the United States \n",
    "  during this period"
   ]
  },
  {
   "cell_type": "code",
   "execution_count": 1,
   "id": "39260c43",
   "metadata": {},
   "outputs": [],
   "source": [
    "import numpy as np\n",
    "import pandas as pd\n",
    "import matplotlib.pyplot as plt"
   ]
  },
  {
   "cell_type": "code",
   "execution_count": 2,
   "id": "5eda028e",
   "metadata": {},
   "outputs": [],
   "source": [
    "data = pd.read_csv(\"NCHS.csv\")"
   ]
  },
  {
   "cell_type": "markdown",
   "id": "b8182280",
   "metadata": {},
   "source": [
    "### Q1 :- What is the total number of records in the dataset?"
   ]
  },
  {
   "cell_type": "code",
   "execution_count": 3,
   "id": "435395e8",
   "metadata": {},
   "outputs": [
    {
     "data": {
      "text/plain": [
       "(10868, 6)"
      ]
     },
     "execution_count": 3,
     "metadata": {},
     "output_type": "execute_result"
    }
   ],
   "source": [
    "data.shape"
   ]
  },
  {
   "cell_type": "code",
   "execution_count": 4,
   "id": "1a3a56cc",
   "metadata": {},
   "outputs": [
    {
     "data": {
      "text/html": [
       "<div>\n",
       "<style scoped>\n",
       "    .dataframe tbody tr th:only-of-type {\n",
       "        vertical-align: middle;\n",
       "    }\n",
       "\n",
       "    .dataframe tbody tr th {\n",
       "        vertical-align: top;\n",
       "    }\n",
       "\n",
       "    .dataframe thead th {\n",
       "        text-align: right;\n",
       "    }\n",
       "</style>\n",
       "<table border=\"1\" class=\"dataframe\">\n",
       "  <thead>\n",
       "    <tr style=\"text-align: right;\">\n",
       "      <th></th>\n",
       "      <th>Year</th>\n",
       "      <th>113 Cause Name</th>\n",
       "      <th>Cause Name</th>\n",
       "      <th>State</th>\n",
       "      <th>Deaths</th>\n",
       "      <th>Age-adjusted Death Rate</th>\n",
       "    </tr>\n",
       "  </thead>\n",
       "  <tbody>\n",
       "    <tr>\n",
       "      <th>0</th>\n",
       "      <td>2017</td>\n",
       "      <td>Accidents (unintentional injuries) (V01-X59,Y8...</td>\n",
       "      <td>Unintentional injuries</td>\n",
       "      <td>United States</td>\n",
       "      <td>169936</td>\n",
       "      <td>49.4</td>\n",
       "    </tr>\n",
       "    <tr>\n",
       "      <th>1</th>\n",
       "      <td>2017</td>\n",
       "      <td>Accidents (unintentional injuries) (V01-X59,Y8...</td>\n",
       "      <td>Unintentional injuries</td>\n",
       "      <td>Alabama</td>\n",
       "      <td>2703</td>\n",
       "      <td>53.8</td>\n",
       "    </tr>\n",
       "    <tr>\n",
       "      <th>2</th>\n",
       "      <td>2017</td>\n",
       "      <td>Accidents (unintentional injuries) (V01-X59,Y8...</td>\n",
       "      <td>Unintentional injuries</td>\n",
       "      <td>Alaska</td>\n",
       "      <td>436</td>\n",
       "      <td>63.7</td>\n",
       "    </tr>\n",
       "    <tr>\n",
       "      <th>3</th>\n",
       "      <td>2017</td>\n",
       "      <td>Accidents (unintentional injuries) (V01-X59,Y8...</td>\n",
       "      <td>Unintentional injuries</td>\n",
       "      <td>Arizona</td>\n",
       "      <td>4184</td>\n",
       "      <td>56.2</td>\n",
       "    </tr>\n",
       "    <tr>\n",
       "      <th>4</th>\n",
       "      <td>2017</td>\n",
       "      <td>Accidents (unintentional injuries) (V01-X59,Y8...</td>\n",
       "      <td>Unintentional injuries</td>\n",
       "      <td>Arkansas</td>\n",
       "      <td>1625</td>\n",
       "      <td>51.8</td>\n",
       "    </tr>\n",
       "  </tbody>\n",
       "</table>\n",
       "</div>"
      ],
      "text/plain": [
       "   Year                                     113 Cause Name  \\\n",
       "0  2017  Accidents (unintentional injuries) (V01-X59,Y8...   \n",
       "1  2017  Accidents (unintentional injuries) (V01-X59,Y8...   \n",
       "2  2017  Accidents (unintentional injuries) (V01-X59,Y8...   \n",
       "3  2017  Accidents (unintentional injuries) (V01-X59,Y8...   \n",
       "4  2017  Accidents (unintentional injuries) (V01-X59,Y8...   \n",
       "\n",
       "               Cause Name          State  Deaths  Age-adjusted Death Rate  \n",
       "0  Unintentional injuries  United States  169936                     49.4  \n",
       "1  Unintentional injuries        Alabama    2703                     53.8  \n",
       "2  Unintentional injuries         Alaska     436                     63.7  \n",
       "3  Unintentional injuries        Arizona    4184                     56.2  \n",
       "4  Unintentional injuries       Arkansas    1625                     51.8  "
      ]
     },
     "execution_count": 4,
     "metadata": {},
     "output_type": "execute_result"
    }
   ],
   "source": [
    "data.head()"
   ]
  },
  {
   "cell_type": "code",
   "execution_count": 5,
   "id": "9b4cf067",
   "metadata": {},
   "outputs": [
    {
     "data": {
      "text/html": [
       "<div>\n",
       "<style scoped>\n",
       "    .dataframe tbody tr th:only-of-type {\n",
       "        vertical-align: middle;\n",
       "    }\n",
       "\n",
       "    .dataframe tbody tr th {\n",
       "        vertical-align: top;\n",
       "    }\n",
       "\n",
       "    .dataframe thead th {\n",
       "        text-align: right;\n",
       "    }\n",
       "</style>\n",
       "<table border=\"1\" class=\"dataframe\">\n",
       "  <thead>\n",
       "    <tr style=\"text-align: right;\">\n",
       "      <th></th>\n",
       "      <th>Year</th>\n",
       "      <th>113 Cause Name</th>\n",
       "      <th>Cause Name</th>\n",
       "      <th>State</th>\n",
       "      <th>Deaths</th>\n",
       "      <th>Age-adjusted Death Rate</th>\n",
       "    </tr>\n",
       "  </thead>\n",
       "  <tbody>\n",
       "    <tr>\n",
       "      <th>10863</th>\n",
       "      <td>1999</td>\n",
       "      <td>Nephritis, nephrotic syndrome and nephrosis (N...</td>\n",
       "      <td>Kidney disease</td>\n",
       "      <td>Virginia</td>\n",
       "      <td>1035</td>\n",
       "      <td>16.9</td>\n",
       "    </tr>\n",
       "    <tr>\n",
       "      <th>10864</th>\n",
       "      <td>1999</td>\n",
       "      <td>Nephritis, nephrotic syndrome and nephrosis (N...</td>\n",
       "      <td>Kidney disease</td>\n",
       "      <td>Washington</td>\n",
       "      <td>278</td>\n",
       "      <td>5.2</td>\n",
       "    </tr>\n",
       "    <tr>\n",
       "      <th>10865</th>\n",
       "      <td>1999</td>\n",
       "      <td>Nephritis, nephrotic syndrome and nephrosis (N...</td>\n",
       "      <td>Kidney disease</td>\n",
       "      <td>West Virginia</td>\n",
       "      <td>345</td>\n",
       "      <td>16.4</td>\n",
       "    </tr>\n",
       "    <tr>\n",
       "      <th>10866</th>\n",
       "      <td>1999</td>\n",
       "      <td>Nephritis, nephrotic syndrome and nephrosis (N...</td>\n",
       "      <td>Kidney disease</td>\n",
       "      <td>Wisconsin</td>\n",
       "      <td>677</td>\n",
       "      <td>11.9</td>\n",
       "    </tr>\n",
       "    <tr>\n",
       "      <th>10867</th>\n",
       "      <td>1999</td>\n",
       "      <td>Nephritis, nephrotic syndrome and nephrosis (N...</td>\n",
       "      <td>Kidney disease</td>\n",
       "      <td>Wyoming</td>\n",
       "      <td>30</td>\n",
       "      <td>6.8</td>\n",
       "    </tr>\n",
       "  </tbody>\n",
       "</table>\n",
       "</div>"
      ],
      "text/plain": [
       "       Year                                     113 Cause Name  \\\n",
       "10863  1999  Nephritis, nephrotic syndrome and nephrosis (N...   \n",
       "10864  1999  Nephritis, nephrotic syndrome and nephrosis (N...   \n",
       "10865  1999  Nephritis, nephrotic syndrome and nephrosis (N...   \n",
       "10866  1999  Nephritis, nephrotic syndrome and nephrosis (N...   \n",
       "10867  1999  Nephritis, nephrotic syndrome and nephrosis (N...   \n",
       "\n",
       "           Cause Name          State  Deaths  Age-adjusted Death Rate  \n",
       "10863  Kidney disease       Virginia    1035                     16.9  \n",
       "10864  Kidney disease     Washington     278                      5.2  \n",
       "10865  Kidney disease  West Virginia     345                     16.4  \n",
       "10866  Kidney disease      Wisconsin     677                     11.9  \n",
       "10867  Kidney disease        Wyoming      30                      6.8  "
      ]
     },
     "execution_count": 5,
     "metadata": {},
     "output_type": "execute_result"
    }
   ],
   "source": [
    "data.tail()"
   ]
  },
  {
   "cell_type": "code",
   "execution_count": 6,
   "id": "617c2571",
   "metadata": {},
   "outputs": [
    {
     "name": "stdout",
     "output_type": "stream",
     "text": [
      "<class 'pandas.core.frame.DataFrame'>\n",
      "RangeIndex: 10868 entries, 0 to 10867\n",
      "Data columns (total 6 columns):\n",
      " #   Column                   Non-Null Count  Dtype  \n",
      "---  ------                   --------------  -----  \n",
      " 0   Year                     10868 non-null  int64  \n",
      " 1   113 Cause Name           10868 non-null  object \n",
      " 2   Cause Name               10868 non-null  object \n",
      " 3   State                    10868 non-null  object \n",
      " 4   Deaths                   10868 non-null  int64  \n",
      " 5   Age-adjusted Death Rate  10868 non-null  float64\n",
      "dtypes: float64(1), int64(2), object(3)\n",
      "memory usage: 509.6+ KB\n"
     ]
    }
   ],
   "source": [
    "# missing values\n",
    "data.info()"
   ]
  },
  {
   "cell_type": "code",
   "execution_count": 7,
   "id": "dfaf86a5",
   "metadata": {},
   "outputs": [
    {
     "data": {
      "text/plain": [
       "Year                       0\n",
       "113 Cause Name             0\n",
       "Cause Name                 0\n",
       "State                      0\n",
       "Deaths                     0\n",
       "Age-adjusted Death Rate    0\n",
       "dtype: int64"
      ]
     },
     "execution_count": 7,
     "metadata": {},
     "output_type": "execute_result"
    }
   ],
   "source": [
    "data.isnull().sum()"
   ]
  },
  {
   "cell_type": "code",
   "execution_count": 9,
   "id": "19cbdb0d",
   "metadata": {},
   "outputs": [
    {
     "data": {
      "text/plain": [
       "Year                       0\n",
       "113 Cause Name             0\n",
       "Cause Name                 0\n",
       "State                      0\n",
       "Deaths                     0\n",
       "Age-adjusted Death Rate    0\n",
       "dtype: int64"
      ]
     },
     "execution_count": 9,
     "metadata": {},
     "output_type": "execute_result"
    }
   ],
   "source": [
    "data.isna().sum()"
   ]
  },
  {
   "cell_type": "markdown",
   "id": "1b0b23ac",
   "metadata": {},
   "source": [
    "##### There are 10868 death cases were recorded in different U.S.states."
   ]
  },
  {
   "cell_type": "markdown",
   "id": "1d41c3cf",
   "metadata": {},
   "source": [
    "### Q2:- What were the causes of death in this data set?"
   ]
  },
  {
   "cell_type": "code",
   "execution_count": 10,
   "id": "2b077bad",
   "metadata": {},
   "outputs": [
    {
     "data": {
      "text/plain": [
       "Index(['Year', '113 Cause Name', 'Cause Name', 'State', 'Deaths',\n",
       "       'Age-adjusted Death Rate'],\n",
       "      dtype='object')"
      ]
     },
     "execution_count": 10,
     "metadata": {},
     "output_type": "execute_result"
    }
   ],
   "source": [
    "data.columns"
   ]
  },
  {
   "cell_type": "code",
   "execution_count": 14,
   "id": "b8b848b6",
   "metadata": {},
   "outputs": [
    {
     "data": {
      "text/plain": [
       "array(['Unintentional injuries', 'All causes', \"Alzheimer's disease\",\n",
       "       'Stroke', 'CLRD', 'Diabetes', 'Heart disease',\n",
       "       'Influenza and pneumonia', 'Suicide', 'Cancer', 'Kidney disease'],\n",
       "      dtype=object)"
      ]
     },
     "execution_count": 14,
     "metadata": {},
     "output_type": "execute_result"
    }
   ],
   "source": [
    "data['Cause Name'].unique()"
   ]
  },
  {
   "cell_type": "code",
   "execution_count": 16,
   "id": "4f7170fa",
   "metadata": {},
   "outputs": [],
   "source": [
    "data = data[data['Cause Name']!='All causes']"
   ]
  },
  {
   "cell_type": "code",
   "execution_count": 17,
   "id": "57853d44",
   "metadata": {},
   "outputs": [
    {
     "data": {
      "text/plain": [
       "array(['Unintentional injuries', \"Alzheimer's disease\", 'Stroke', 'CLRD',\n",
       "       'Diabetes', 'Heart disease', 'Influenza and pneumonia', 'Suicide',\n",
       "       'Cancer', 'Kidney disease'], dtype=object)"
      ]
     },
     "execution_count": 17,
     "metadata": {},
     "output_type": "execute_result"
    }
   ],
   "source": [
    "data['Cause Name'].unique()"
   ]
  },
  {
   "cell_type": "code",
   "execution_count": 18,
   "id": "8e63eefe",
   "metadata": {},
   "outputs": [
    {
     "data": {
      "text/plain": [
       "10"
      ]
     },
     "execution_count": 18,
     "metadata": {},
     "output_type": "execute_result"
    }
   ],
   "source": [
    "data['Cause Name'].nunique()"
   ]
  },
  {
   "cell_type": "markdown",
   "id": "c53643be",
   "metadata": {},
   "source": [
    "##### There are 10 death causes "
   ]
  },
  {
   "cell_type": "markdown",
   "id": "d89d920a",
   "metadata": {},
   "source": [
    "### Q3:- How many states in this dataset?"
   ]
  },
  {
   "cell_type": "code",
   "execution_count": 19,
   "id": "f28b32ca",
   "metadata": {},
   "outputs": [
    {
     "data": {
      "text/html": [
       "<div>\n",
       "<style scoped>\n",
       "    .dataframe tbody tr th:only-of-type {\n",
       "        vertical-align: middle;\n",
       "    }\n",
       "\n",
       "    .dataframe tbody tr th {\n",
       "        vertical-align: top;\n",
       "    }\n",
       "\n",
       "    .dataframe thead th {\n",
       "        text-align: right;\n",
       "    }\n",
       "</style>\n",
       "<table border=\"1\" class=\"dataframe\">\n",
       "  <thead>\n",
       "    <tr style=\"text-align: right;\">\n",
       "      <th></th>\n",
       "      <th>Year</th>\n",
       "      <th>113 Cause Name</th>\n",
       "      <th>Cause Name</th>\n",
       "      <th>State</th>\n",
       "      <th>Deaths</th>\n",
       "      <th>Age-adjusted Death Rate</th>\n",
       "    </tr>\n",
       "  </thead>\n",
       "  <tbody>\n",
       "    <tr>\n",
       "      <th>0</th>\n",
       "      <td>2017</td>\n",
       "      <td>Accidents (unintentional injuries) (V01-X59,Y8...</td>\n",
       "      <td>Unintentional injuries</td>\n",
       "      <td>United States</td>\n",
       "      <td>169936</td>\n",
       "      <td>49.4</td>\n",
       "    </tr>\n",
       "    <tr>\n",
       "      <th>1</th>\n",
       "      <td>2017</td>\n",
       "      <td>Accidents (unintentional injuries) (V01-X59,Y8...</td>\n",
       "      <td>Unintentional injuries</td>\n",
       "      <td>Alabama</td>\n",
       "      <td>2703</td>\n",
       "      <td>53.8</td>\n",
       "    </tr>\n",
       "    <tr>\n",
       "      <th>2</th>\n",
       "      <td>2017</td>\n",
       "      <td>Accidents (unintentional injuries) (V01-X59,Y8...</td>\n",
       "      <td>Unintentional injuries</td>\n",
       "      <td>Alaska</td>\n",
       "      <td>436</td>\n",
       "      <td>63.7</td>\n",
       "    </tr>\n",
       "    <tr>\n",
       "      <th>3</th>\n",
       "      <td>2017</td>\n",
       "      <td>Accidents (unintentional injuries) (V01-X59,Y8...</td>\n",
       "      <td>Unintentional injuries</td>\n",
       "      <td>Arizona</td>\n",
       "      <td>4184</td>\n",
       "      <td>56.2</td>\n",
       "    </tr>\n",
       "    <tr>\n",
       "      <th>4</th>\n",
       "      <td>2017</td>\n",
       "      <td>Accidents (unintentional injuries) (V01-X59,Y8...</td>\n",
       "      <td>Unintentional injuries</td>\n",
       "      <td>Arkansas</td>\n",
       "      <td>1625</td>\n",
       "      <td>51.8</td>\n",
       "    </tr>\n",
       "  </tbody>\n",
       "</table>\n",
       "</div>"
      ],
      "text/plain": [
       "   Year                                     113 Cause Name  \\\n",
       "0  2017  Accidents (unintentional injuries) (V01-X59,Y8...   \n",
       "1  2017  Accidents (unintentional injuries) (V01-X59,Y8...   \n",
       "2  2017  Accidents (unintentional injuries) (V01-X59,Y8...   \n",
       "3  2017  Accidents (unintentional injuries) (V01-X59,Y8...   \n",
       "4  2017  Accidents (unintentional injuries) (V01-X59,Y8...   \n",
       "\n",
       "               Cause Name          State  Deaths  Age-adjusted Death Rate  \n",
       "0  Unintentional injuries  United States  169936                     49.4  \n",
       "1  Unintentional injuries        Alabama    2703                     53.8  \n",
       "2  Unintentional injuries         Alaska     436                     63.7  \n",
       "3  Unintentional injuries        Arizona    4184                     56.2  \n",
       "4  Unintentional injuries       Arkansas    1625                     51.8  "
      ]
     },
     "execution_count": 19,
     "metadata": {},
     "output_type": "execute_result"
    }
   ],
   "source": [
    "data.head()"
   ]
  },
  {
   "cell_type": "code",
   "execution_count": 22,
   "id": "6ae4787b",
   "metadata": {},
   "outputs": [
    {
     "data": {
      "text/plain": [
       "array(['United States', 'Alabama', 'Alaska', 'Arizona', 'Arkansas',\n",
       "       'California', 'Colorado', 'Connecticut', 'Delaware',\n",
       "       'District of Columbia', 'Florida', 'Georgia', 'Hawaii', 'Idaho',\n",
       "       'Illinois', 'Indiana', 'Iowa', 'Kansas', 'Kentucky', 'Louisiana',\n",
       "       'Maine', 'Maryland', 'Massachusetts', 'Michigan', 'Minnesota',\n",
       "       'Mississippi', 'Missouri', 'Montana', 'Nebraska', 'Nevada',\n",
       "       'New Hampshire', 'New Jersey', 'New Mexico', 'New York',\n",
       "       'North Carolina', 'North Dakota', 'Ohio', 'Oklahoma', 'Oregon',\n",
       "       'Pennsylvania', 'Rhode Island', 'South Carolina', 'South Dakota',\n",
       "       'Tennessee', 'Texas', 'Utah', 'Vermont', 'Virginia', 'Washington',\n",
       "       'West Virginia', 'Wisconsin', 'Wyoming'], dtype=object)"
      ]
     },
     "execution_count": 22,
     "metadata": {},
     "output_type": "execute_result"
    }
   ],
   "source": [
    "data.State.unique()"
   ]
  },
  {
   "cell_type": "code",
   "execution_count": 23,
   "id": "14c6b339",
   "metadata": {},
   "outputs": [],
   "source": [
    "data = data[data['State']!='United States']"
   ]
  },
  {
   "cell_type": "code",
   "execution_count": 25,
   "id": "08909f0a",
   "metadata": {},
   "outputs": [
    {
     "data": {
      "text/plain": [
       "array(['Alabama', 'Alaska', 'Arizona', 'Arkansas', 'California',\n",
       "       'Colorado', 'Connecticut', 'Delaware', 'District of Columbia',\n",
       "       'Florida', 'Georgia', 'Hawaii', 'Idaho', 'Illinois', 'Indiana',\n",
       "       'Iowa', 'Kansas', 'Kentucky', 'Louisiana', 'Maine', 'Maryland',\n",
       "       'Massachusetts', 'Michigan', 'Minnesota', 'Mississippi',\n",
       "       'Missouri', 'Montana', 'Nebraska', 'Nevada', 'New Hampshire',\n",
       "       'New Jersey', 'New Mexico', 'New York', 'North Carolina',\n",
       "       'North Dakota', 'Ohio', 'Oklahoma', 'Oregon', 'Pennsylvania',\n",
       "       'Rhode Island', 'South Carolina', 'South Dakota', 'Tennessee',\n",
       "       'Texas', 'Utah', 'Vermont', 'Virginia', 'Washington',\n",
       "       'West Virginia', 'Wisconsin', 'Wyoming'], dtype=object)"
      ]
     },
     "execution_count": 25,
     "metadata": {},
     "output_type": "execute_result"
    }
   ],
   "source": [
    "data.State.unique()"
   ]
  },
  {
   "cell_type": "code",
   "execution_count": 26,
   "id": "9dd05015",
   "metadata": {},
   "outputs": [
    {
     "data": {
      "text/plain": [
       "51"
      ]
     },
     "execution_count": 26,
     "metadata": {},
     "output_type": "execute_result"
    }
   ],
   "source": [
    "data.State.nunique()"
   ]
  },
  {
   "cell_type": "markdown",
   "id": "b5421370",
   "metadata": {},
   "source": [
    "### Q4:- What was the total number of deaths in the United  States from 1999 to 2017?"
   ]
  },
  {
   "cell_type": "code",
   "execution_count": 27,
   "id": "7b59a0bd",
   "metadata": {},
   "outputs": [
    {
     "data": {
      "text/html": [
       "<div>\n",
       "<style scoped>\n",
       "    .dataframe tbody tr th:only-of-type {\n",
       "        vertical-align: middle;\n",
       "    }\n",
       "\n",
       "    .dataframe tbody tr th {\n",
       "        vertical-align: top;\n",
       "    }\n",
       "\n",
       "    .dataframe thead th {\n",
       "        text-align: right;\n",
       "    }\n",
       "</style>\n",
       "<table border=\"1\" class=\"dataframe\">\n",
       "  <thead>\n",
       "    <tr style=\"text-align: right;\">\n",
       "      <th></th>\n",
       "      <th>Year</th>\n",
       "      <th>113 Cause Name</th>\n",
       "      <th>Cause Name</th>\n",
       "      <th>State</th>\n",
       "      <th>Deaths</th>\n",
       "      <th>Age-adjusted Death Rate</th>\n",
       "    </tr>\n",
       "  </thead>\n",
       "  <tbody>\n",
       "    <tr>\n",
       "      <th>1</th>\n",
       "      <td>2017</td>\n",
       "      <td>Accidents (unintentional injuries) (V01-X59,Y8...</td>\n",
       "      <td>Unintentional injuries</td>\n",
       "      <td>Alabama</td>\n",
       "      <td>2703</td>\n",
       "      <td>53.8</td>\n",
       "    </tr>\n",
       "    <tr>\n",
       "      <th>2</th>\n",
       "      <td>2017</td>\n",
       "      <td>Accidents (unintentional injuries) (V01-X59,Y8...</td>\n",
       "      <td>Unintentional injuries</td>\n",
       "      <td>Alaska</td>\n",
       "      <td>436</td>\n",
       "      <td>63.7</td>\n",
       "    </tr>\n",
       "    <tr>\n",
       "      <th>3</th>\n",
       "      <td>2017</td>\n",
       "      <td>Accidents (unintentional injuries) (V01-X59,Y8...</td>\n",
       "      <td>Unintentional injuries</td>\n",
       "      <td>Arizona</td>\n",
       "      <td>4184</td>\n",
       "      <td>56.2</td>\n",
       "    </tr>\n",
       "    <tr>\n",
       "      <th>4</th>\n",
       "      <td>2017</td>\n",
       "      <td>Accidents (unintentional injuries) (V01-X59,Y8...</td>\n",
       "      <td>Unintentional injuries</td>\n",
       "      <td>Arkansas</td>\n",
       "      <td>1625</td>\n",
       "      <td>51.8</td>\n",
       "    </tr>\n",
       "    <tr>\n",
       "      <th>5</th>\n",
       "      <td>2017</td>\n",
       "      <td>Accidents (unintentional injuries) (V01-X59,Y8...</td>\n",
       "      <td>Unintentional injuries</td>\n",
       "      <td>California</td>\n",
       "      <td>13840</td>\n",
       "      <td>33.2</td>\n",
       "    </tr>\n",
       "  </tbody>\n",
       "</table>\n",
       "</div>"
      ],
      "text/plain": [
       "   Year                                     113 Cause Name  \\\n",
       "1  2017  Accidents (unintentional injuries) (V01-X59,Y8...   \n",
       "2  2017  Accidents (unintentional injuries) (V01-X59,Y8...   \n",
       "3  2017  Accidents (unintentional injuries) (V01-X59,Y8...   \n",
       "4  2017  Accidents (unintentional injuries) (V01-X59,Y8...   \n",
       "5  2017  Accidents (unintentional injuries) (V01-X59,Y8...   \n",
       "\n",
       "               Cause Name       State  Deaths  Age-adjusted Death Rate  \n",
       "1  Unintentional injuries     Alabama    2703                     53.8  \n",
       "2  Unintentional injuries      Alaska     436                     63.7  \n",
       "3  Unintentional injuries     Arizona    4184                     56.2  \n",
       "4  Unintentional injuries    Arkansas    1625                     51.8  \n",
       "5  Unintentional injuries  California   13840                     33.2  "
      ]
     },
     "execution_count": 27,
     "metadata": {},
     "output_type": "execute_result"
    }
   ],
   "source": [
    "data.head()"
   ]
  },
  {
   "cell_type": "code",
   "execution_count": 29,
   "id": "9cc6fac3",
   "metadata": {},
   "outputs": [
    {
     "data": {
      "text/plain": [
       "36280583"
      ]
     },
     "execution_count": 29,
     "metadata": {},
     "output_type": "execute_result"
    }
   ],
   "source": [
    "data.Deaths.sum()"
   ]
  },
  {
   "cell_type": "markdown",
   "id": "bfcbfe9e",
   "metadata": {},
   "source": [
    "##### The total number of death during given time period is 36280583"
   ]
  },
  {
   "cell_type": "markdown",
   "id": "526995f9",
   "metadata": {},
   "source": [
    "### Q5:- What is the number of deaths per each year from 1999 to 2017?"
   ]
  },
  {
   "cell_type": "code",
   "execution_count": 31,
   "id": "ea3e2833",
   "metadata": {},
   "outputs": [
    {
     "data": {
      "text/html": [
       "<div>\n",
       "<style scoped>\n",
       "    .dataframe tbody tr th:only-of-type {\n",
       "        vertical-align: middle;\n",
       "    }\n",
       "\n",
       "    .dataframe tbody tr th {\n",
       "        vertical-align: top;\n",
       "    }\n",
       "\n",
       "    .dataframe thead th {\n",
       "        text-align: right;\n",
       "    }\n",
       "</style>\n",
       "<table border=\"1\" class=\"dataframe\">\n",
       "  <thead>\n",
       "    <tr style=\"text-align: right;\">\n",
       "      <th></th>\n",
       "      <th>Year</th>\n",
       "      <th>113 Cause Name</th>\n",
       "      <th>Cause Name</th>\n",
       "      <th>State</th>\n",
       "      <th>Deaths</th>\n",
       "      <th>Age-adjusted Death Rate</th>\n",
       "    </tr>\n",
       "  </thead>\n",
       "  <tbody>\n",
       "    <tr>\n",
       "      <th>1</th>\n",
       "      <td>2017</td>\n",
       "      <td>Accidents (unintentional injuries) (V01-X59,Y8...</td>\n",
       "      <td>Unintentional injuries</td>\n",
       "      <td>Alabama</td>\n",
       "      <td>2703</td>\n",
       "      <td>53.8</td>\n",
       "    </tr>\n",
       "    <tr>\n",
       "      <th>2</th>\n",
       "      <td>2017</td>\n",
       "      <td>Accidents (unintentional injuries) (V01-X59,Y8...</td>\n",
       "      <td>Unintentional injuries</td>\n",
       "      <td>Alaska</td>\n",
       "      <td>436</td>\n",
       "      <td>63.7</td>\n",
       "    </tr>\n",
       "    <tr>\n",
       "      <th>3</th>\n",
       "      <td>2017</td>\n",
       "      <td>Accidents (unintentional injuries) (V01-X59,Y8...</td>\n",
       "      <td>Unintentional injuries</td>\n",
       "      <td>Arizona</td>\n",
       "      <td>4184</td>\n",
       "      <td>56.2</td>\n",
       "    </tr>\n",
       "    <tr>\n",
       "      <th>4</th>\n",
       "      <td>2017</td>\n",
       "      <td>Accidents (unintentional injuries) (V01-X59,Y8...</td>\n",
       "      <td>Unintentional injuries</td>\n",
       "      <td>Arkansas</td>\n",
       "      <td>1625</td>\n",
       "      <td>51.8</td>\n",
       "    </tr>\n",
       "    <tr>\n",
       "      <th>5</th>\n",
       "      <td>2017</td>\n",
       "      <td>Accidents (unintentional injuries) (V01-X59,Y8...</td>\n",
       "      <td>Unintentional injuries</td>\n",
       "      <td>California</td>\n",
       "      <td>13840</td>\n",
       "      <td>33.2</td>\n",
       "    </tr>\n",
       "  </tbody>\n",
       "</table>\n",
       "</div>"
      ],
      "text/plain": [
       "   Year                                     113 Cause Name  \\\n",
       "1  2017  Accidents (unintentional injuries) (V01-X59,Y8...   \n",
       "2  2017  Accidents (unintentional injuries) (V01-X59,Y8...   \n",
       "3  2017  Accidents (unintentional injuries) (V01-X59,Y8...   \n",
       "4  2017  Accidents (unintentional injuries) (V01-X59,Y8...   \n",
       "5  2017  Accidents (unintentional injuries) (V01-X59,Y8...   \n",
       "\n",
       "               Cause Name       State  Deaths  Age-adjusted Death Rate  \n",
       "1  Unintentional injuries     Alabama    2703                     53.8  \n",
       "2  Unintentional injuries      Alaska     436                     63.7  \n",
       "3  Unintentional injuries     Arizona    4184                     56.2  \n",
       "4  Unintentional injuries    Arkansas    1625                     51.8  \n",
       "5  Unintentional injuries  California   13840                     33.2  "
      ]
     },
     "execution_count": 31,
     "metadata": {},
     "output_type": "execute_result"
    }
   ],
   "source": [
    "data.head()"
   ]
  },
  {
   "cell_type": "code",
   "execution_count": 78,
   "id": "8e9f8ebb",
   "metadata": {},
   "outputs": [
    {
     "data": {
      "text/plain": [
       "36280583"
      ]
     },
     "execution_count": 78,
     "metadata": {},
     "output_type": "execute_result"
    }
   ],
   "source": [
    "data.Deaths.sum()"
   ]
  },
  {
   "cell_type": "code",
   "execution_count": 82,
   "id": "59823f9b",
   "metadata": {},
   "outputs": [],
   "source": [
    "data1 = data.groupby(['Year']).sum()"
   ]
  },
  {
   "cell_type": "code",
   "execution_count": 83,
   "id": "9db21914",
   "metadata": {},
   "outputs": [
    {
     "data": {
      "text/plain": [
       "pandas.core.frame.DataFrame"
      ]
     },
     "execution_count": 83,
     "metadata": {},
     "output_type": "execute_result"
    }
   ],
   "source": [
    "type(data1)"
   ]
  },
  {
   "cell_type": "code",
   "execution_count": 88,
   "id": "92b5eac5",
   "metadata": {},
   "outputs": [
    {
     "data": {
      "text/plain": [
       "Year\n",
       "1999    1905826\n",
       "2000    1902194\n",
       "2001    1899358\n",
       "2002    1918873\n",
       "2003    1912115\n",
       "2004    1864133\n",
       "2005    1889981\n",
       "2006    1854676\n",
       "2007    1846301\n",
       "2008    1872981\n",
       "2009    1838501\n",
       "2010    1852349\n",
       "2011    1869321\n",
       "2012    1876588\n",
       "2013    1910311\n",
       "2014    1938408\n",
       "2015    2013017\n",
       "2016    2034119\n",
       "2017    2081531\n",
       "Name: Deaths, dtype: int64"
      ]
     },
     "execution_count": 88,
     "metadata": {},
     "output_type": "execute_result"
    }
   ],
   "source": [
    "data1.Deaths"
   ]
  },
  {
   "cell_type": "code",
   "execution_count": 89,
   "id": "4442166f",
   "metadata": {},
   "outputs": [
    {
     "data": {
      "text/plain": [
       "<AxesSubplot:xlabel='Year'>"
      ]
     },
     "execution_count": 89,
     "metadata": {},
     "output_type": "execute_result"
    },
    {
     "data": {
      "image/png": "[encoded data removed]",
      "text/plain": [
       "<Figure size 432x288 with 1 Axes>"
      ]
     },
     "metadata": {
      "needs_background": "light"
     },
     "output_type": "display_data"
    }
   ],
   "source": [
    "data1.Deaths.plot(kind='bar')"
   ]
  },
  {
   "cell_type": "markdown",
   "id": "c5531d77",
   "metadata": {},
   "source": [
    "### Q6:- Which ten states had the highest number of deaths overall?"
   ]
  },
  {
   "cell_type": "code",
   "execution_count": 90,
   "id": "25105c4a",
   "metadata": {},
   "outputs": [
    {
     "data": {
      "text/html": [
       "<div>\n",
       "<style scoped>\n",
       "    .dataframe tbody tr th:only-of-type {\n",
       "        vertical-align: middle;\n",
       "    }\n",
       "\n",
       "    .dataframe tbody tr th {\n",
       "        vertical-align: top;\n",
       "    }\n",
       "\n",
       "    .dataframe thead th {\n",
       "        text-align: right;\n",
       "    }\n",
       "</style>\n",
       "<table border=\"1\" class=\"dataframe\">\n",
       "  <thead>\n",
       "    <tr style=\"text-align: right;\">\n",
       "      <th></th>\n",
       "      <th>Year</th>\n",
       "      <th>113 Cause Name</th>\n",
       "      <th>Cause Name</th>\n",
       "      <th>State</th>\n",
       "      <th>Deaths</th>\n",
       "      <th>Age-adjusted Death Rate</th>\n",
       "    </tr>\n",
       "  </thead>\n",
       "  <tbody>\n",
       "    <tr>\n",
       "      <th>1</th>\n",
       "      <td>2017</td>\n",
       "      <td>Accidents (unintentional injuries) (V01-X59,Y8...</td>\n",
       "      <td>Unintentional injuries</td>\n",
       "      <td>Alabama</td>\n",
       "      <td>2703</td>\n",
       "      <td>53.8</td>\n",
       "    </tr>\n",
       "    <tr>\n",
       "      <th>2</th>\n",
       "      <td>2017</td>\n",
       "      <td>Accidents (unintentional injuries) (V01-X59,Y8...</td>\n",
       "      <td>Unintentional injuries</td>\n",
       "      <td>Alaska</td>\n",
       "      <td>436</td>\n",
       "      <td>63.7</td>\n",
       "    </tr>\n",
       "    <tr>\n",
       "      <th>3</th>\n",
       "      <td>2017</td>\n",
       "      <td>Accidents (unintentional injuries) (V01-X59,Y8...</td>\n",
       "      <td>Unintentional injuries</td>\n",
       "      <td>Arizona</td>\n",
       "      <td>4184</td>\n",
       "      <td>56.2</td>\n",
       "    </tr>\n",
       "    <tr>\n",
       "      <th>4</th>\n",
       "      <td>2017</td>\n",
       "      <td>Accidents (unintentional injuries) (V01-X59,Y8...</td>\n",
       "      <td>Unintentional injuries</td>\n",
       "      <td>Arkansas</td>\n",
       "      <td>1625</td>\n",
       "      <td>51.8</td>\n",
       "    </tr>\n",
       "    <tr>\n",
       "      <th>5</th>\n",
       "      <td>2017</td>\n",
       "      <td>Accidents (unintentional injuries) (V01-X59,Y8...</td>\n",
       "      <td>Unintentional injuries</td>\n",
       "      <td>California</td>\n",
       "      <td>13840</td>\n",
       "      <td>33.2</td>\n",
       "    </tr>\n",
       "  </tbody>\n",
       "</table>\n",
       "</div>"
      ],
      "text/plain": [
       "   Year                                     113 Cause Name  \\\n",
       "1  2017  Accidents (unintentional injuries) (V01-X59,Y8...   \n",
       "2  2017  Accidents (unintentional injuries) (V01-X59,Y8...   \n",
       "3  2017  Accidents (unintentional injuries) (V01-X59,Y8...   \n",
       "4  2017  Accidents (unintentional injuries) (V01-X59,Y8...   \n",
       "5  2017  Accidents (unintentional injuries) (V01-X59,Y8...   \n",
       "\n",
       "               Cause Name       State  Deaths  Age-adjusted Death Rate  \n",
       "1  Unintentional injuries     Alabama    2703                     53.8  \n",
       "2  Unintentional injuries      Alaska     436                     63.7  \n",
       "3  Unintentional injuries     Arizona    4184                     56.2  \n",
       "4  Unintentional injuries    Arkansas    1625                     51.8  \n",
       "5  Unintentional injuries  California   13840                     33.2  "
      ]
     },
     "execution_count": 90,
     "metadata": {},
     "output_type": "execute_result"
    }
   ],
   "source": [
    "data.head()"
   ]
  },
  {
   "cell_type": "code",
   "execution_count": 92,
   "id": "166ac71d",
   "metadata": {},
   "outputs": [],
   "source": [
    "data1 = data.groupby('State').sum()"
   ]
  },
  {
   "cell_type": "code",
   "execution_count": 94,
   "id": "18528b8d",
   "metadata": {},
   "outputs": [
    {
     "data": {
      "text/html": [
       "<div>\n",
       "<style scoped>\n",
       "    .dataframe tbody tr th:only-of-type {\n",
       "        vertical-align: middle;\n",
       "    }\n",
       "\n",
       "    .dataframe tbody tr th {\n",
       "        vertical-align: top;\n",
       "    }\n",
       "\n",
       "    .dataframe thead th {\n",
       "        text-align: right;\n",
       "    }\n",
       "</style>\n",
       "<table border=\"1\" class=\"dataframe\">\n",
       "  <thead>\n",
       "    <tr style=\"text-align: right;\">\n",
       "      <th></th>\n",
       "      <th>Year</th>\n",
       "      <th>113 Cause Name</th>\n",
       "      <th>Cause Name</th>\n",
       "      <th>Deaths</th>\n",
       "      <th>Age-adjusted Death Rate</th>\n",
       "    </tr>\n",
       "    <tr>\n",
       "      <th>State</th>\n",
       "      <th></th>\n",
       "      <th></th>\n",
       "      <th></th>\n",
       "      <th></th>\n",
       "      <th></th>\n",
       "    </tr>\n",
       "  </thead>\n",
       "  <tbody>\n",
       "    <tr>\n",
       "      <th>Alabama</th>\n",
       "      <td>381520</td>\n",
       "      <td>Accidents (unintentional injuries) (V01-X59,Y8...</td>\n",
       "      <td>Unintentional injuriesAlzheimer's diseaseStrok...</td>\n",
       "      <td>689468</td>\n",
       "      <td>13754.6</td>\n",
       "    </tr>\n",
       "    <tr>\n",
       "      <th>Alaska</th>\n",
       "      <td>381520</td>\n",
       "      <td>Accidents (unintentional injuries) (V01-X59,Y8...</td>\n",
       "      <td>Unintentional injuriesAlzheimer's diseaseStrok...</td>\n",
       "      <td>50101</td>\n",
       "      <td>10959.1</td>\n",
       "    </tr>\n",
       "    <tr>\n",
       "      <th>Arizona</th>\n",
       "      <td>381520</td>\n",
       "      <td>Accidents (unintentional injuries) (V01-X59,Y8...</td>\n",
       "      <td>Unintentional injuriesAlzheimer's diseaseStrok...</td>\n",
       "      <td>676578</td>\n",
       "      <td>10531.8</td>\n",
       "    </tr>\n",
       "    <tr>\n",
       "      <th>Arkansas</th>\n",
       "      <td>381520</td>\n",
       "      <td>Accidents (unintentional injuries) (V01-X59,Y8...</td>\n",
       "      <td>Unintentional injuriesAlzheimer's diseaseStrok...</td>\n",
       "      <td>431902</td>\n",
       "      <td>13547.0</td>\n",
       "    </tr>\n",
       "    <tr>\n",
       "      <th>California</th>\n",
       "      <td>381520</td>\n",
       "      <td>Accidents (unintentional injuries) (V01-X59,Y8...</td>\n",
       "      <td>Unintentional injuriesAlzheimer's diseaseStrok...</td>\n",
       "      <td>3594261</td>\n",
       "      <td>10378.3</td>\n",
       "    </tr>\n",
       "    <tr>\n",
       "      <th>Colorado</th>\n",
       "      <td>381520</td>\n",
       "      <td>Accidents (unintentional injuries) (V01-X59,Y8...</td>\n",
       "      <td>Unintentional injuriesAlzheimer's diseaseStrok...</td>\n",
       "      <td>440074</td>\n",
       "      <td>10063.3</td>\n",
       "    </tr>\n",
       "    <tr>\n",
       "      <th>Connecticut</th>\n",
       "      <td>381520</td>\n",
       "      <td>Accidents (unintentional injuries) (V01-X59,Y8...</td>\n",
       "      <td>Unintentional injuriesAlzheimer's diseaseStrok...</td>\n",
       "      <td>418389</td>\n",
       "      <td>9865.7</td>\n",
       "    </tr>\n",
       "    <tr>\n",
       "      <th>Delaware</th>\n",
       "      <td>381520</td>\n",
       "      <td>Accidents (unintentional injuries) (V01-X59,Y8...</td>\n",
       "      <td>Unintentional injuriesAlzheimer's diseaseStrok...</td>\n",
       "      <td>109842</td>\n",
       "      <td>11482.5</td>\n",
       "    </tr>\n",
       "    <tr>\n",
       "      <th>District of Columbia</th>\n",
       "      <td>381520</td>\n",
       "      <td>Accidents (unintentional injuries) (V01-X59,Y8...</td>\n",
       "      <td>Unintentional injuriesAlzheimer's diseaseStrok...</td>\n",
       "      <td>69786</td>\n",
       "      <td>11884.3</td>\n",
       "    </tr>\n",
       "    <tr>\n",
       "      <th>Florida</th>\n",
       "      <td>381520</td>\n",
       "      <td>Accidents (unintentional injuries) (V01-X59,Y8...</td>\n",
       "      <td>Unintentional injuriesAlzheimer's diseaseStrok...</td>\n",
       "      <td>2533472</td>\n",
       "      <td>10434.4</td>\n",
       "    </tr>\n",
       "    <tr>\n",
       "      <th>Georgia</th>\n",
       "      <td>381520</td>\n",
       "      <td>Accidents (unintentional injuries) (V01-X59,Y8...</td>\n",
       "      <td>Unintentional injuriesAlzheimer's diseaseStrok...</td>\n",
       "      <td>984109</td>\n",
       "      <td>12224.2</td>\n",
       "    </tr>\n",
       "    <tr>\n",
       "      <th>Hawaii</th>\n",
       "      <td>381520</td>\n",
       "      <td>Accidents (unintentional injuries) (V01-X59,Y8...</td>\n",
       "      <td>Unintentional injuriesAlzheimer's diseaseStrok...</td>\n",
       "      <td>136969</td>\n",
       "      <td>8870.6</td>\n",
       "    </tr>\n",
       "    <tr>\n",
       "      <th>Idaho</th>\n",
       "      <td>381520</td>\n",
       "      <td>Accidents (unintentional injuries) (V01-X59,Y8...</td>\n",
       "      <td>Unintentional injuriesAlzheimer's diseaseStrok...</td>\n",
       "      <td>161414</td>\n",
       "      <td>10919.9</td>\n",
       "    </tr>\n",
       "    <tr>\n",
       "      <th>Illinois</th>\n",
       "      <td>381520</td>\n",
       "      <td>Accidents (unintentional injuries) (V01-X59,Y8...</td>\n",
       "      <td>Unintentional injuriesAlzheimer's diseaseStrok...</td>\n",
       "      <td>1508039</td>\n",
       "      <td>11376.9</td>\n",
       "    </tr>\n",
       "    <tr>\n",
       "      <th>Indiana</th>\n",
       "      <td>381520</td>\n",
       "      <td>Accidents (unintentional injuries) (V01-X59,Y8...</td>\n",
       "      <td>Unintentional injuriesAlzheimer's diseaseStrok...</td>\n",
       "      <td>837358</td>\n",
       "      <td>12466.0</td>\n",
       "    </tr>\n",
       "    <tr>\n",
       "      <th>Iowa</th>\n",
       "      <td>381520</td>\n",
       "      <td>Accidents (unintentional injuries) (V01-X59,Y8...</td>\n",
       "      <td>Unintentional injuriesAlzheimer's diseaseStrok...</td>\n",
       "      <td>416684</td>\n",
       "      <td>11008.4</td>\n",
       "    </tr>\n",
       "    <tr>\n",
       "      <th>Kansas</th>\n",
       "      <td>381520</td>\n",
       "      <td>Accidents (unintentional injuries) (V01-X59,Y8...</td>\n",
       "      <td>Unintentional injuriesAlzheimer's diseaseStrok...</td>\n",
       "      <td>355905</td>\n",
       "      <td>11335.5</td>\n",
       "    </tr>\n",
       "    <tr>\n",
       "      <th>Kentucky</th>\n",
       "      <td>381520</td>\n",
       "      <td>Accidents (unintentional injuries) (V01-X59,Y8...</td>\n",
       "      <td>Unintentional injuriesAlzheimer's diseaseStrok...</td>\n",
       "      <td>623018</td>\n",
       "      <td>13932.8</td>\n",
       "    </tr>\n",
       "    <tr>\n",
       "      <th>Louisiana</th>\n",
       "      <td>381520</td>\n",
       "      <td>Accidents (unintentional injuries) (V01-X59,Y8...</td>\n",
       "      <td>Unintentional injuriesAlzheimer's diseaseStrok...</td>\n",
       "      <td>607806</td>\n",
       "      <td>13588.7</td>\n",
       "    </tr>\n",
       "    <tr>\n",
       "      <th>Maine</th>\n",
       "      <td>381520</td>\n",
       "      <td>Accidents (unintentional injuries) (V01-X59,Y8...</td>\n",
       "      <td>Unintentional injuriesAlzheimer's diseaseStrok...</td>\n",
       "      <td>186894</td>\n",
       "      <td>11382.0</td>\n",
       "    </tr>\n",
       "    <tr>\n",
       "      <th>Maryland</th>\n",
       "      <td>381520</td>\n",
       "      <td>Accidents (unintentional injuries) (V01-X59,Y8...</td>\n",
       "      <td>Unintentional injuriesAlzheimer's diseaseStrok...</td>\n",
       "      <td>619229</td>\n",
       "      <td>10871.2</td>\n",
       "    </tr>\n",
       "    <tr>\n",
       "      <th>Massachusetts</th>\n",
       "      <td>381520</td>\n",
       "      <td>Accidents (unintentional injuries) (V01-X59,Y8...</td>\n",
       "      <td>Unintentional injuriesAlzheimer's diseaseStrok...</td>\n",
       "      <td>766310</td>\n",
       "      <td>10089.9</td>\n",
       "    </tr>\n",
       "    <tr>\n",
       "      <th>Michigan</th>\n",
       "      <td>381520</td>\n",
       "      <td>Accidents (unintentional injuries) (V01-X59,Y8...</td>\n",
       "      <td>Unintentional injuriesAlzheimer's diseaseStrok...</td>\n",
       "      <td>1313813</td>\n",
       "      <td>12061.7</td>\n",
       "    </tr>\n",
       "    <tr>\n",
       "      <th>Minnesota</th>\n",
       "      <td>381520</td>\n",
       "      <td>Accidents (unintentional injuries) (V01-X59,Y8...</td>\n",
       "      <td>Unintentional injuriesAlzheimer's diseaseStrok...</td>\n",
       "      <td>541359</td>\n",
       "      <td>9528.5</td>\n",
       "    </tr>\n",
       "    <tr>\n",
       "      <th>Mississippi</th>\n",
       "      <td>381520</td>\n",
       "      <td>Accidents (unintentional injuries) (V01-X59,Y8...</td>\n",
       "      <td>Unintentional injuriesAlzheimer's diseaseStrok...</td>\n",
       "      <td>433661</td>\n",
       "      <td>14560.7</td>\n",
       "    </tr>\n",
       "    <tr>\n",
       "      <th>Missouri</th>\n",
       "      <td>381520</td>\n",
       "      <td>Accidents (unintentional injuries) (V01-X59,Y8...</td>\n",
       "      <td>Unintentional injuriesAlzheimer's diseaseStrok...</td>\n",
       "      <td>835348</td>\n",
       "      <td>12652.3</td>\n",
       "    </tr>\n",
       "    <tr>\n",
       "      <th>Montana</th>\n",
       "      <td>381520</td>\n",
       "      <td>Accidents (unintentional injuries) (V01-X59,Y8...</td>\n",
       "      <td>Unintentional injuriesAlzheimer's diseaseStrok...</td>\n",
       "      <td>126104</td>\n",
       "      <td>11179.5</td>\n",
       "    </tr>\n",
       "    <tr>\n",
       "      <th>Nebraska</th>\n",
       "      <td>381520</td>\n",
       "      <td>Accidents (unintentional injuries) (V01-X59,Y8...</td>\n",
       "      <td>Unintentional injuriesAlzheimer's diseaseStrok...</td>\n",
       "      <td>218158</td>\n",
       "      <td>10603.1</td>\n",
       "    </tr>\n",
       "    <tr>\n",
       "      <th>Nevada</th>\n",
       "      <td>381520</td>\n",
       "      <td>Accidents (unintentional injuries) (V01-X59,Y8...</td>\n",
       "      <td>Unintentional injuriesAlzheimer's diseaseStrok...</td>\n",
       "      <td>282665</td>\n",
       "      <td>12075.2</td>\n",
       "    </tr>\n",
       "    <tr>\n",
       "      <th>New Hampshire</th>\n",
       "      <td>381520</td>\n",
       "      <td>Accidents (unintentional injuries) (V01-X59,Y8...</td>\n",
       "      <td>Unintentional injuriesAlzheimer's diseaseStrok...</td>\n",
       "      <td>153380</td>\n",
       "      <td>10795.6</td>\n",
       "    </tr>\n",
       "    <tr>\n",
       "      <th>New Jersey</th>\n",
       "      <td>381520</td>\n",
       "      <td>Accidents (unintentional injuries) (V01-X59,Y8...</td>\n",
       "      <td>Unintentional injuriesAlzheimer's diseaseStrok...</td>\n",
       "      <td>1030622</td>\n",
       "      <td>10573.2</td>\n",
       "    </tr>\n",
       "    <tr>\n",
       "      <th>New Mexico</th>\n",
       "      <td>381520</td>\n",
       "      <td>Accidents (unintentional injuries) (V01-X59,Y8...</td>\n",
       "      <td>Unintentional injuriesAlzheimer's diseaseStrok...</td>\n",
       "      <td>220993</td>\n",
       "      <td>10914.2</td>\n",
       "    </tr>\n",
       "    <tr>\n",
       "      <th>New York</th>\n",
       "      <td>381520</td>\n",
       "      <td>Accidents (unintentional injuries) (V01-X59,Y8...</td>\n",
       "      <td>Unintentional injuriesAlzheimer's diseaseStrok...</td>\n",
       "      <td>2264120</td>\n",
       "      <td>10519.1</td>\n",
       "    </tr>\n",
       "    <tr>\n",
       "      <th>North Carolina</th>\n",
       "      <td>381520</td>\n",
       "      <td>Accidents (unintentional injuries) (V01-X59,Y8...</td>\n",
       "      <td>Unintentional injuriesAlzheimer's diseaseStrok...</td>\n",
       "      <td>1115953</td>\n",
       "      <td>11976.7</td>\n",
       "    </tr>\n",
       "    <tr>\n",
       "      <th>North Dakota</th>\n",
       "      <td>381520</td>\n",
       "      <td>Accidents (unintentional injuries) (V01-X59,Y8...</td>\n",
       "      <td>Unintentional injuriesAlzheimer's diseaseStrok...</td>\n",
       "      <td>88299</td>\n",
       "      <td>10632.0</td>\n",
       "    </tr>\n",
       "    <tr>\n",
       "      <th>Ohio</th>\n",
       "      <td>381520</td>\n",
       "      <td>Accidents (unintentional injuries) (V01-X59,Y8...</td>\n",
       "      <td>Unintentional injuriesAlzheimer's diseaseStrok...</td>\n",
       "      <td>1605250</td>\n",
       "      <td>12356.6</td>\n",
       "    </tr>\n",
       "    <tr>\n",
       "      <th>Oklahoma</th>\n",
       "      <td>381520</td>\n",
       "      <td>Accidents (unintentional injuries) (V01-X59,Y8...</td>\n",
       "      <td>Unintentional injuriesAlzheimer's diseaseStrok...</td>\n",
       "      <td>546164</td>\n",
       "      <td>13926.8</td>\n",
       "    </tr>\n",
       "    <tr>\n",
       "      <th>Oregon</th>\n",
       "      <td>381520</td>\n",
       "      <td>Accidents (unintentional injuries) (V01-X59,Y8...</td>\n",
       "      <td>Unintentional injuriesAlzheimer's diseaseStrok...</td>\n",
       "      <td>451426</td>\n",
       "      <td>10698.0</td>\n",
       "    </tr>\n",
       "    <tr>\n",
       "      <th>Pennsylvania</th>\n",
       "      <td>381520</td>\n",
       "      <td>Accidents (unintentional injuries) (V01-X59,Y8...</td>\n",
       "      <td>Unintentional injuriesAlzheimer's diseaseStrok...</td>\n",
       "      <td>1854953</td>\n",
       "      <td>11643.4</td>\n",
       "    </tr>\n",
       "    <tr>\n",
       "      <th>Rhode Island</th>\n",
       "      <td>381520</td>\n",
       "      <td>Accidents (unintentional injuries) (V01-X59,Y8...</td>\n",
       "      <td>Unintentional injuriesAlzheimer's diseaseStrok...</td>\n",
       "      <td>141146</td>\n",
       "      <td>10769.4</td>\n",
       "    </tr>\n",
       "    <tr>\n",
       "      <th>South Carolina</th>\n",
       "      <td>381520</td>\n",
       "      <td>Accidents (unintentional injuries) (V01-X59,Y8...</td>\n",
       "      <td>Unintentional injuriesAlzheimer's diseaseStrok...</td>\n",
       "      <td>582793</td>\n",
       "      <td>12514.1</td>\n",
       "    </tr>\n",
       "    <tr>\n",
       "      <th>South Dakota</th>\n",
       "      <td>381520</td>\n",
       "      <td>Accidents (unintentional injuries) (V01-X59,Y8...</td>\n",
       "      <td>Unintentional injuriesAlzheimer's diseaseStrok...</td>\n",
       "      <td>107491</td>\n",
       "      <td>11095.3</td>\n",
       "    </tr>\n",
       "    <tr>\n",
       "      <th>Tennessee</th>\n",
       "      <td>381520</td>\n",
       "      <td>Accidents (unintentional injuries) (V01-X59,Y8...</td>\n",
       "      <td>Unintentional injuriesAlzheimer's diseaseStrok...</td>\n",
       "      <td>875383</td>\n",
       "      <td>13505.5</td>\n",
       "    </tr>\n",
       "    <tr>\n",
       "      <th>Texas</th>\n",
       "      <td>381520</td>\n",
       "      <td>Accidents (unintentional injuries) (V01-X59,Y8...</td>\n",
       "      <td>Unintentional injuriesAlzheimer's diseaseStrok...</td>\n",
       "      <td>2367695</td>\n",
       "      <td>11506.8</td>\n",
       "    </tr>\n",
       "    <tr>\n",
       "      <th>Utah</th>\n",
       "      <td>381520</td>\n",
       "      <td>Accidents (unintentional injuries) (V01-X59,Y8...</td>\n",
       "      <td>Unintentional injuriesAlzheimer's diseaseStrok...</td>\n",
       "      <td>194022</td>\n",
       "      <td>9812.5</td>\n",
       "    </tr>\n",
       "    <tr>\n",
       "      <th>Vermont</th>\n",
       "      <td>381520</td>\n",
       "      <td>Accidents (unintentional injuries) (V01-X59,Y8...</td>\n",
       "      <td>Unintentional injuriesAlzheimer's diseaseStrok...</td>\n",
       "      <td>77898</td>\n",
       "      <td>10798.4</td>\n",
       "    </tr>\n",
       "    <tr>\n",
       "      <th>Virginia</th>\n",
       "      <td>381520</td>\n",
       "      <td>Accidents (unintentional injuries) (V01-X59,Y8...</td>\n",
       "      <td>Unintentional injuriesAlzheimer's diseaseStrok...</td>\n",
       "      <td>849570</td>\n",
       "      <td>11154.9</td>\n",
       "    </tr>\n",
       "    <tr>\n",
       "      <th>Washington</th>\n",
       "      <td>381520</td>\n",
       "      <td>Accidents (unintentional injuries) (V01-X59,Y8...</td>\n",
       "      <td>Unintentional injuriesAlzheimer's diseaseStrok...</td>\n",
       "      <td>712395</td>\n",
       "      <td>10771.6</td>\n",
       "    </tr>\n",
       "    <tr>\n",
       "      <th>West Virginia</th>\n",
       "      <td>381520</td>\n",
       "      <td>Accidents (unintentional injuries) (V01-X59,Y8...</td>\n",
       "      <td>Unintentional injuriesAlzheimer's diseaseStrok...</td>\n",
       "      <td>312416</td>\n",
       "      <td>13907.2</td>\n",
       "    </tr>\n",
       "    <tr>\n",
       "      <th>Wisconsin</th>\n",
       "      <td>381520</td>\n",
       "      <td>Accidents (unintentional injuries) (V01-X59,Y8...</td>\n",
       "      <td>Unintentional injuriesAlzheimer's diseaseStrok...</td>\n",
       "      <td>696978</td>\n",
       "      <td>10917.0</td>\n",
       "    </tr>\n",
       "    <tr>\n",
       "      <th>Wyoming</th>\n",
       "      <td>381520</td>\n",
       "      <td>Accidents (unintentional injuries) (V01-X59,Y8...</td>\n",
       "      <td>Unintentional injuriesAlzheimer's diseaseStrok...</td>\n",
       "      <td>62920</td>\n",
       "      <td>11558.1</td>\n",
       "    </tr>\n",
       "  </tbody>\n",
       "</table>\n",
       "</div>"
      ],
      "text/plain": [
       "                        Year  \\\n",
       "State                          \n",
       "Alabama               381520   \n",
       "Alaska                381520   \n",
       "Arizona               381520   \n",
       "Arkansas              381520   \n",
       "California            381520   \n",
       "Colorado              381520   \n",
       "Connecticut           381520   \n",
       "Delaware              381520   \n",
       "District of Columbia  381520   \n",
       "Florida               381520   \n",
       "Georgia               381520   \n",
       "Hawaii                381520   \n",
       "Idaho                 381520   \n",
       "Illinois              381520   \n",
       "Indiana               381520   \n",
       "Iowa                  381520   \n",
       "Kansas                381520   \n",
       "Kentucky              381520   \n",
       "Louisiana             381520   \n",
       "Maine                 381520   \n",
       "Maryland              381520   \n",
       "Massachusetts         381520   \n",
       "Michigan              381520   \n",
       "Minnesota             381520   \n",
       "Mississippi           381520   \n",
       "Missouri              381520   \n",
       "Montana               381520   \n",
       "Nebraska              381520   \n",
       "Nevada                381520   \n",
       "New Hampshire         381520   \n",
       "New Jersey            381520   \n",
       "New Mexico            381520   \n",
       "New York              381520   \n",
       "North Carolina        381520   \n",
       "North Dakota          381520   \n",
       "Ohio                  381520   \n",
       "Oklahoma              381520   \n",
       "Oregon                381520   \n",
       "Pennsylvania          381520   \n",
       "Rhode Island          381520   \n",
       "South Carolina        381520   \n",
       "South Dakota          381520   \n",
       "Tennessee             381520   \n",
       "Texas                 381520   \n",
       "Utah                  381520   \n",
       "Vermont               381520   \n",
       "Virginia              381520   \n",
       "Washington            381520   \n",
       "West Virginia         381520   \n",
       "Wisconsin             381520   \n",
       "Wyoming               381520   \n",
       "\n",
       "                                                         113 Cause Name  \\\n",
       "State                                                                     \n",
       "Alabama               Accidents (unintentional injuries) (V01-X59,Y8...   \n",
       "Alaska                Accidents (unintentional injuries) (V01-X59,Y8...   \n",
       "Arizona               Accidents (unintentional injuries) (V01-X59,Y8...   \n",
       "Arkansas              Accidents (unintentional injuries) (V01-X59,Y8...   \n",
       "California            Accidents (unintentional injuries) (V01-X59,Y8...   \n",
       "Colorado              Accidents (unintentional injuries) (V01-X59,Y8...   \n",
       "Connecticut           Accidents (unintentional injuries) (V01-X59,Y8...   \n",
       "Delaware              Accidents (unintentional injuries) (V01-X59,Y8...   \n",
       "District of Columbia  Accidents (unintentional injuries) (V01-X59,Y8...   \n",
       "Florida               Accidents (unintentional injuries) (V01-X59,Y8...   \n",
       "Georgia               Accidents (unintentional injuries) (V01-X59,Y8...   \n",
       "Hawaii                Accidents (unintentional injuries) (V01-X59,Y8...   \n",
       "Idaho                 Accidents (unintentional injuries) (V01-X59,Y8...   \n",
       "Illinois              Accidents (unintentional injuries) (V01-X59,Y8...   \n",
       "Indiana               Accidents (unintentional injuries) (V01-X59,Y8...   \n",
       "Iowa                  Accidents (unintentional injuries) (V01-X59,Y8...   \n",
       "Kansas                Accidents (unintentional injuries) (V01-X59,Y8...   \n",
       "Kentucky              Accidents (unintentional injuries) (V01-X59,Y8...   \n",
       "Louisiana             Accidents (unintentional injuries) (V01-X59,Y8...   \n",
       "Maine                 Accidents (unintentional injuries) (V01-X59,Y8...   \n",
       "Maryland              Accidents (unintentional injuries) (V01-X59,Y8...   \n",
       "Massachusetts         Accidents (unintentional injuries) (V01-X59,Y8...   \n",
       "Michigan              Accidents (unintentional injuries) (V01-X59,Y8...   \n",
       "Minnesota             Accidents (unintentional injuries) (V01-X59,Y8...   \n",
       "Mississippi           Accidents (unintentional injuries) (V01-X59,Y8...   \n",
       "Missouri              Accidents (unintentional injuries) (V01-X59,Y8...   \n",
       "Montana               Accidents (unintentional injuries) (V01-X59,Y8...   \n",
       "Nebraska              Accidents (unintentional injuries) (V01-X59,Y8...   \n",
       "Nevada                Accidents (unintentional injuries) (V01-X59,Y8...   \n",
       "New Hampshire         Accidents (unintentional injuries) (V01-X59,Y8...   \n",
       "New Jersey            Accidents (unintentional injuries) (V01-X59,Y8...   \n",
       "New Mexico            Accidents (unintentional injuries) (V01-X59,Y8...   \n",
       "New York              Accidents (unintentional injuries) (V01-X59,Y8...   \n",
       "North Carolina        Accidents (unintentional injuries) (V01-X59,Y8...   \n",
       "North Dakota          Accidents (unintentional injuries) (V01-X59,Y8...   \n",
       "Ohio                  Accidents (unintentional injuries) (V01-X59,Y8...   \n",
       "Oklahoma              Accidents (unintentional injuries) (V01-X59,Y8...   \n",
       "Oregon                Accidents (unintentional injuries) (V01-X59,Y8...   \n",
       "Pennsylvania          Accidents (unintentional injuries) (V01-X59,Y8...   \n",
       "Rhode Island          Accidents (unintentional injuries) (V01-X59,Y8...   \n",
       "South Carolina        Accidents (unintentional injuries) (V01-X59,Y8...   \n",
       "South Dakota          Accidents (unintentional injuries) (V01-X59,Y8...   \n",
       "Tennessee             Accidents (unintentional injuries) (V01-X59,Y8...   \n",
       "Texas                 Accidents (unintentional injuries) (V01-X59,Y8...   \n",
       "Utah                  Accidents (unintentional injuries) (V01-X59,Y8...   \n",
       "Vermont               Accidents (unintentional injuries) (V01-X59,Y8...   \n",
       "Virginia              Accidents (unintentional injuries) (V01-X59,Y8...   \n",
       "Washington            Accidents (unintentional injuries) (V01-X59,Y8...   \n",
       "West Virginia         Accidents (unintentional injuries) (V01-X59,Y8...   \n",
       "Wisconsin             Accidents (unintentional injuries) (V01-X59,Y8...   \n",
       "Wyoming               Accidents (unintentional injuries) (V01-X59,Y8...   \n",
       "\n",
       "                                                             Cause Name  \\\n",
       "State                                                                     \n",
       "Alabama               Unintentional injuriesAlzheimer's diseaseStrok...   \n",
       "Alaska                Unintentional injuriesAlzheimer's diseaseStrok...   \n",
       "Arizona               Unintentional injuriesAlzheimer's diseaseStrok...   \n",
       "Arkansas              Unintentional injuriesAlzheimer's diseaseStrok...   \n",
       "California            Unintentional injuriesAlzheimer's diseaseStrok...   \n",
       "Colorado              Unintentional injuriesAlzheimer's diseaseStrok...   \n",
       "Connecticut           Unintentional injuriesAlzheimer's diseaseStrok...   \n",
       "Delaware              Unintentional injuriesAlzheimer's diseaseStrok...   \n",
       "District of Columbia  Unintentional injuriesAlzheimer's diseaseStrok...   \n",
       "Florida               Unintentional injuriesAlzheimer's diseaseStrok...   \n",
       "Georgia               Unintentional injuriesAlzheimer's diseaseStrok...   \n",
       "Hawaii                Unintentional injuriesAlzheimer's diseaseStrok...   \n",
       "Idaho                 Unintentional injuriesAlzheimer's diseaseStrok...   \n",
       "Illinois              Unintentional injuriesAlzheimer's diseaseStrok...   \n",
       "Indiana               Unintentional injuriesAlzheimer's diseaseStrok...   \n",
       "Iowa                  Unintentional injuriesAlzheimer's diseaseStrok...   \n",
       "Kansas                Unintentional injuriesAlzheimer's diseaseStrok...   \n",
       "Kentucky              Unintentional injuriesAlzheimer's diseaseStrok...   \n",
       "Louisiana             Unintentional injuriesAlzheimer's diseaseStrok...   \n",
       "Maine                 Unintentional injuriesAlzheimer's diseaseStrok...   \n",
       "Maryland              Unintentional injuriesAlzheimer's diseaseStrok...   \n",
       "Massachusetts         Unintentional injuriesAlzheimer's diseaseStrok...   \n",
       "Michigan              Unintentional injuriesAlzheimer's diseaseStrok...   \n",
       "Minnesota             Unintentional injuriesAlzheimer's diseaseStrok...   \n",
       "Mississippi           Unintentional injuriesAlzheimer's diseaseStrok...   \n",
       "Missouri              Unintentional injuriesAlzheimer's diseaseStrok...   \n",
       "Montana               Unintentional injuriesAlzheimer's diseaseStrok...   \n",
       "Nebraska              Unintentional injuriesAlzheimer's diseaseStrok...   \n",
       "Nevada                Unintentional injuriesAlzheimer's diseaseStrok...   \n",
       "New Hampshire         Unintentional injuriesAlzheimer's diseaseStrok...   \n",
       "New Jersey            Unintentional injuriesAlzheimer's diseaseStrok...   \n",
       "New Mexico            Unintentional injuriesAlzheimer's diseaseStrok...   \n",
       "New York              Unintentional injuriesAlzheimer's diseaseStrok...   \n",
       "North Carolina        Unintentional injuriesAlzheimer's diseaseStrok...   \n",
       "North Dakota          Unintentional injuriesAlzheimer's diseaseStrok...   \n",
       "Ohio                  Unintentional injuriesAlzheimer's diseaseStrok...   \n",
       "Oklahoma              Unintentional injuriesAlzheimer's diseaseStrok...   \n",
       "Oregon                Unintentional injuriesAlzheimer's diseaseStrok...   \n",
       "Pennsylvania          Unintentional injuriesAlzheimer's diseaseStrok...   \n",
       "Rhode Island          Unintentional injuriesAlzheimer's diseaseStrok...   \n",
       "South Carolina        Unintentional injuriesAlzheimer's diseaseStrok...   \n",
       "South Dakota          Unintentional injuriesAlzheimer's diseaseStrok...   \n",
       "Tennessee             Unintentional injuriesAlzheimer's diseaseStrok...   \n",
       "Texas                 Unintentional injuriesAlzheimer's diseaseStrok...   \n",
       "Utah                  Unintentional injuriesAlzheimer's diseaseStrok...   \n",
       "Vermont               Unintentional injuriesAlzheimer's diseaseStrok...   \n",
       "Virginia              Unintentional injuriesAlzheimer's diseaseStrok...   \n",
       "Washington            Unintentional injuriesAlzheimer's diseaseStrok...   \n",
       "West Virginia         Unintentional injuriesAlzheimer's diseaseStrok...   \n",
       "Wisconsin             Unintentional injuriesAlzheimer's diseaseStrok...   \n",
       "Wyoming               Unintentional injuriesAlzheimer's diseaseStrok...   \n",
       "\n",
       "                       Deaths  Age-adjusted Death Rate  \n",
       "State                                                   \n",
       "Alabama                689468                  13754.6  \n",
       "Alaska                  50101                  10959.1  \n",
       "Arizona                676578                  10531.8  \n",
       "Arkansas               431902                  13547.0  \n",
       "California            3594261                  10378.3  \n",
       "Colorado               440074                  10063.3  \n",
       "Connecticut            418389                   9865.7  \n",
       "Delaware               109842                  11482.5  \n",
       "District of Columbia    69786                  11884.3  \n",
       "Florida               2533472                  10434.4  \n",
       "Georgia                984109                  12224.2  \n",
       "Hawaii                 136969                   8870.6  \n",
       "Idaho                  161414                  10919.9  \n",
       "Illinois              1508039                  11376.9  \n",
       "Indiana                837358                  12466.0  \n",
       "Iowa                   416684                  11008.4  \n",
       "Kansas                 355905                  11335.5  \n",
       "Kentucky               623018                  13932.8  \n",
       "Louisiana              607806                  13588.7  \n",
       "Maine                  186894                  11382.0  \n",
       "Maryland               619229                  10871.2  \n",
       "Massachusetts          766310                  10089.9  \n",
       "Michigan              1313813                  12061.7  \n",
       "Minnesota              541359                   9528.5  \n",
       "Mississippi            433661                  14560.7  \n",
       "Missouri               835348                  12652.3  \n",
       "Montana                126104                  11179.5  \n",
       "Nebraska               218158                  10603.1  \n",
       "Nevada                 282665                  12075.2  \n",
       "New Hampshire          153380                  10795.6  \n",
       "New Jersey            1030622                  10573.2  \n",
       "New Mexico             220993                  10914.2  \n",
       "New York              2264120                  10519.1  \n",
       "North Carolina        1115953                  11976.7  \n",
       "North Dakota            88299                  10632.0  \n",
       "Ohio                  1605250                  12356.6  \n",
       "Oklahoma               546164                  13926.8  \n",
       "Oregon                 451426                  10698.0  \n",
       "Pennsylvania          1854953                  11643.4  \n",
       "Rhode Island           141146                  10769.4  \n",
       "South Carolina         582793                  12514.1  \n",
       "South Dakota           107491                  11095.3  \n",
       "Tennessee              875383                  13505.5  \n",
       "Texas                 2367695                  11506.8  \n",
       "Utah                   194022                   9812.5  \n",
       "Vermont                 77898                  10798.4  \n",
       "Virginia               849570                  11154.9  \n",
       "Washington             712395                  10771.6  \n",
       "West Virginia          312416                  13907.2  \n",
       "Wisconsin              696978                  10917.0  \n",
       "Wyoming                 62920                  11558.1  "
      ]
     },
     "execution_count": 94,
     "metadata": {},
     "output_type": "execute_result"
    }
   ],
   "source": [
    "data1"
   ]
  },
  {
   "cell_type": "code",
   "execution_count": 98,
   "id": "1273811f",
   "metadata": {},
   "outputs": [],
   "source": [
    "data1.reset_index(inplace=True)"
   ]
  },
  {
   "cell_type": "code",
   "execution_count": 100,
   "id": "e1a11b7e",
   "metadata": {},
   "outputs": [
    {
     "data": {
      "text/plain": [
       "Index(['State', 'Year', '113 Cause Name', 'Cause Name', 'Deaths',\n",
       "       'Age-adjusted Death Rate'],\n",
       "      dtype='object')"
      ]
     },
     "execution_count": 100,
     "metadata": {},
     "output_type": "execute_result"
    }
   ],
   "source": [
    "data1.columns"
   ]
  },
  {
   "cell_type": "code",
   "execution_count": 107,
   "id": "a0b9721a",
   "metadata": {},
   "outputs": [],
   "source": [
    "data1 = data1.sort_values('Deaths',ascending=False)"
   ]
  },
  {
   "cell_type": "code",
   "execution_count": 117,
   "id": "74fa53d4",
   "metadata": {},
   "outputs": [
    {
     "data": {
      "text/plain": [
       "Text(0.5, 1.0, 'Top ten states with highest death number \\n 1999-2017')"
      ]
     },
     "execution_count": 117,
     "metadata": {},
     "output_type": "execute_result"
    },
    {
     "data": {
      "image/png": "[encoded data removed]",
      "text/plain": [
       "<Figure size 1080x432 with 1 Axes>"
      ]
     },
     "metadata": {
      "needs_background": "light"
     },
     "output_type": "display_data"
    }
   ],
   "source": [
    "plt.figure(figsize=(15,6))\n",
    "plt.bar('State','Deaths', data=data1.head(10))\n",
    "plt.xticks(rotation=45)\n",
    "plt.title(\"Top ten states with highest death number \\n 1999-2017\")"
   ]
  },
  {
   "cell_type": "code",
   "execution_count": 119,
   "id": "fb49288f",
   "metadata": {},
   "outputs": [
    {
     "data": {
      "text/plain": [
       "Text(0.5, 1.0, 'Bottom ten states with highest death number \\n 1999-2017')"
      ]
     },
     "execution_count": 119,
     "metadata": {},
     "output_type": "execute_result"
    },
    {
     "data": {
      "image/png": "[encoded data removed]",
      "text/plain": [
       "<Figure size 1080x432 with 1 Axes>"
      ]
     },
     "metadata": {
      "needs_background": "light"
     },
     "output_type": "display_data"
    }
   ],
   "source": [
    "plt.figure(figsize=(15,6))\n",
    "plt.bar('State','Deaths', data=data1.tail(10))\n",
    "plt.xticks(rotation=45)\n",
    "plt.title(\"Bottom ten states with highest death number \\n 1999-2017\")"
   ]
  },
  {
   "cell_type": "markdown",
   "id": "056bbaa5",
   "metadata": {},
   "source": [
    "### Q7:- What were the top causes of deaths in the United States during this period?"
   ]
  },
  {
   "cell_type": "code",
   "execution_count": 120,
   "id": "15f9b100",
   "metadata": {},
   "outputs": [
    {
     "data": {
      "text/html": [
       "<div>\n",
       "<style scoped>\n",
       "    .dataframe tbody tr th:only-of-type {\n",
       "        vertical-align: middle;\n",
       "    }\n",
       "\n",
       "    .dataframe tbody tr th {\n",
       "        vertical-align: top;\n",
       "    }\n",
       "\n",
       "    .dataframe thead th {\n",
       "        text-align: right;\n",
       "    }\n",
       "</style>\n",
       "<table border=\"1\" class=\"dataframe\">\n",
       "  <thead>\n",
       "    <tr style=\"text-align: right;\">\n",
       "      <th></th>\n",
       "      <th>Year</th>\n",
       "      <th>113 Cause Name</th>\n",
       "      <th>Cause Name</th>\n",
       "      <th>State</th>\n",
       "      <th>Deaths</th>\n",
       "      <th>Age-adjusted Death Rate</th>\n",
       "    </tr>\n",
       "  </thead>\n",
       "  <tbody>\n",
       "    <tr>\n",
       "      <th>1</th>\n",
       "      <td>2017</td>\n",
       "      <td>Accidents (unintentional injuries) (V01-X59,Y8...</td>\n",
       "      <td>Unintentional injuries</td>\n",
       "      <td>Alabama</td>\n",
       "      <td>2703</td>\n",
       "      <td>53.8</td>\n",
       "    </tr>\n",
       "    <tr>\n",
       "      <th>2</th>\n",
       "      <td>2017</td>\n",
       "      <td>Accidents (unintentional injuries) (V01-X59,Y8...</td>\n",
       "      <td>Unintentional injuries</td>\n",
       "      <td>Alaska</td>\n",
       "      <td>436</td>\n",
       "      <td>63.7</td>\n",
       "    </tr>\n",
       "    <tr>\n",
       "      <th>3</th>\n",
       "      <td>2017</td>\n",
       "      <td>Accidents (unintentional injuries) (V01-X59,Y8...</td>\n",
       "      <td>Unintentional injuries</td>\n",
       "      <td>Arizona</td>\n",
       "      <td>4184</td>\n",
       "      <td>56.2</td>\n",
       "    </tr>\n",
       "    <tr>\n",
       "      <th>4</th>\n",
       "      <td>2017</td>\n",
       "      <td>Accidents (unintentional injuries) (V01-X59,Y8...</td>\n",
       "      <td>Unintentional injuries</td>\n",
       "      <td>Arkansas</td>\n",
       "      <td>1625</td>\n",
       "      <td>51.8</td>\n",
       "    </tr>\n",
       "    <tr>\n",
       "      <th>5</th>\n",
       "      <td>2017</td>\n",
       "      <td>Accidents (unintentional injuries) (V01-X59,Y8...</td>\n",
       "      <td>Unintentional injuries</td>\n",
       "      <td>California</td>\n",
       "      <td>13840</td>\n",
       "      <td>33.2</td>\n",
       "    </tr>\n",
       "  </tbody>\n",
       "</table>\n",
       "</div>"
      ],
      "text/plain": [
       "   Year                                     113 Cause Name  \\\n",
       "1  2017  Accidents (unintentional injuries) (V01-X59,Y8...   \n",
       "2  2017  Accidents (unintentional injuries) (V01-X59,Y8...   \n",
       "3  2017  Accidents (unintentional injuries) (V01-X59,Y8...   \n",
       "4  2017  Accidents (unintentional injuries) (V01-X59,Y8...   \n",
       "5  2017  Accidents (unintentional injuries) (V01-X59,Y8...   \n",
       "\n",
       "               Cause Name       State  Deaths  Age-adjusted Death Rate  \n",
       "1  Unintentional injuries     Alabama    2703                     53.8  \n",
       "2  Unintentional injuries      Alaska     436                     63.7  \n",
       "3  Unintentional injuries     Arizona    4184                     56.2  \n",
       "4  Unintentional injuries    Arkansas    1625                     51.8  \n",
       "5  Unintentional injuries  California   13840                     33.2  "
      ]
     },
     "execution_count": 120,
     "metadata": {},
     "output_type": "execute_result"
    }
   ],
   "source": [
    "data.head()"
   ]
  },
  {
   "cell_type": "code",
   "execution_count": 122,
   "id": "8c21f19a",
   "metadata": {},
   "outputs": [],
   "source": [
    "data2 = data.groupby('Cause Name').sum()"
   ]
  },
  {
   "cell_type": "code",
   "execution_count": 126,
   "id": "29f66561",
   "metadata": {},
   "outputs": [],
   "source": [
    "data2.sort_values('Deaths', ascending=False, inplace=True)"
   ]
  },
  {
   "cell_type": "code",
   "execution_count": 127,
   "id": "0c3241ee",
   "metadata": {},
   "outputs": [
    {
     "data": {
      "text/html": [
       "<div>\n",
       "<style scoped>\n",
       "    .dataframe tbody tr th:only-of-type {\n",
       "        vertical-align: middle;\n",
       "    }\n",
       "\n",
       "    .dataframe tbody tr th {\n",
       "        vertical-align: top;\n",
       "    }\n",
       "\n",
       "    .dataframe thead th {\n",
       "        text-align: right;\n",
       "    }\n",
       "</style>\n",
       "<table border=\"1\" class=\"dataframe\">\n",
       "  <thead>\n",
       "    <tr style=\"text-align: right;\">\n",
       "      <th></th>\n",
       "      <th>Year</th>\n",
       "      <th>113 Cause Name</th>\n",
       "      <th>State</th>\n",
       "      <th>Deaths</th>\n",
       "      <th>Age-adjusted Death Rate</th>\n",
       "    </tr>\n",
       "    <tr>\n",
       "      <th>Cause Name</th>\n",
       "      <th></th>\n",
       "      <th></th>\n",
       "      <th></th>\n",
       "      <th></th>\n",
       "      <th></th>\n",
       "    </tr>\n",
       "  </thead>\n",
       "  <tbody>\n",
       "    <tr>\n",
       "      <th>Heart disease</th>\n",
       "      <td>1945752</td>\n",
       "      <td>Diseases of heart (I00-I09,I11,I13,I20-I51)Dis...</td>\n",
       "      <td>AlabamaAlaskaArizonaArkansasCaliforniaColorado...</td>\n",
       "      <td>12222640</td>\n",
       "      <td>191798.4</td>\n",
       "    </tr>\n",
       "    <tr>\n",
       "      <th>Cancer</th>\n",
       "      <td>1945752</td>\n",
       "      <td>Malignant neoplasms (C00-C97)Malignant neoplas...</td>\n",
       "      <td>AlabamaAlaskaArizonaArkansasCaliforniaColorado...</td>\n",
       "      <td>10843644</td>\n",
       "      <td>173078.6</td>\n",
       "    </tr>\n",
       "    <tr>\n",
       "      <th>Stroke</th>\n",
       "      <td>1945752</td>\n",
       "      <td>Cerebrovascular diseases (I60-I69)Cerebrovascu...</td>\n",
       "      <td>AlabamaAlaskaArizonaArkansasCaliforniaColorado...</td>\n",
       "      <td>2726523</td>\n",
       "      <td>44476.9</td>\n",
       "    </tr>\n",
       "    <tr>\n",
       "      <th>CLRD</th>\n",
       "      <td>1945752</td>\n",
       "      <td>Chronic lower respiratory diseases (J40-J47)Ch...</td>\n",
       "      <td>AlabamaAlaskaArizonaArkansasCaliforniaColorado...</td>\n",
       "      <td>2594927</td>\n",
       "      <td>43253.4</td>\n",
       "    </tr>\n",
       "    <tr>\n",
       "      <th>Unintentional injuries</th>\n",
       "      <td>1945752</td>\n",
       "      <td>Accidents (unintentional injuries) (V01-X59,Y8...</td>\n",
       "      <td>AlabamaAlaskaArizonaArkansasCaliforniaColorado...</td>\n",
       "      <td>2347820</td>\n",
       "      <td>42139.2</td>\n",
       "    </tr>\n",
       "    <tr>\n",
       "      <th>Alzheimer's disease</th>\n",
       "      <td>1945752</td>\n",
       "      <td>Alzheimer's disease (G30)Alzheimer's disease (...</td>\n",
       "      <td>AlabamaAlaskaArizonaArkansasCaliforniaColorado...</td>\n",
       "      <td>1494816</td>\n",
       "      <td>24256.0</td>\n",
       "    </tr>\n",
       "    <tr>\n",
       "      <th>Diabetes</th>\n",
       "      <td>1945752</td>\n",
       "      <td>Diabetes mellitus (E10-E14)Diabetes mellitus (...</td>\n",
       "      <td>AlabamaAlaskaArizonaArkansasCaliforniaColorado...</td>\n",
       "      <td>1399943</td>\n",
       "      <td>22677.4</td>\n",
       "    </tr>\n",
       "    <tr>\n",
       "      <th>Influenza and pneumonia</th>\n",
       "      <td>1945752</td>\n",
       "      <td>Influenza and pneumonia (J09-J18)Influenza and...</td>\n",
       "      <td>AlabamaAlaskaArizonaArkansasCaliforniaColorado...</td>\n",
       "      <td>1094641</td>\n",
       "      <td>17641.1</td>\n",
       "    </tr>\n",
       "    <tr>\n",
       "      <th>Kidney disease</th>\n",
       "      <td>1945752</td>\n",
       "      <td>Nephritis, nephrotic syndrome and nephrosis (N...</td>\n",
       "      <td>AlabamaAlaskaArizonaArkansasCaliforniaColorado...</td>\n",
       "      <td>858613</td>\n",
       "      <td>13633.6</td>\n",
       "    </tr>\n",
       "    <tr>\n",
       "      <th>Suicide</th>\n",
       "      <td>1945752</td>\n",
       "      <td>Intentional self-harm (suicide) (*U03,X60-X84,...</td>\n",
       "      <td>AlabamaAlaskaArizonaArkansasCaliforniaColorado...</td>\n",
       "      <td>697016</td>\n",
       "      <td>13019.9</td>\n",
       "    </tr>\n",
       "  </tbody>\n",
       "</table>\n",
       "</div>"
      ],
      "text/plain": [
       "                            Year  \\\n",
       "Cause Name                         \n",
       "Heart disease            1945752   \n",
       "Cancer                   1945752   \n",
       "Stroke                   1945752   \n",
       "CLRD                     1945752   \n",
       "Unintentional injuries   1945752   \n",
       "Alzheimer's disease      1945752   \n",
       "Diabetes                 1945752   \n",
       "Influenza and pneumonia  1945752   \n",
       "Kidney disease           1945752   \n",
       "Suicide                  1945752   \n",
       "\n",
       "                                                            113 Cause Name  \\\n",
       "Cause Name                                                                   \n",
       "Heart disease            Diseases of heart (I00-I09,I11,I13,I20-I51)Dis...   \n",
       "Cancer                   Malignant neoplasms (C00-C97)Malignant neoplas...   \n",
       "Stroke                   Cerebrovascular diseases (I60-I69)Cerebrovascu...   \n",
       "CLRD                     Chronic lower respiratory diseases (J40-J47)Ch...   \n",
       "Unintentional injuries   Accidents (unintentional injuries) (V01-X59,Y8...   \n",
       "Alzheimer's disease      Alzheimer's disease (G30)Alzheimer's disease (...   \n",
       "Diabetes                 Diabetes mellitus (E10-E14)Diabetes mellitus (...   \n",
       "Influenza and pneumonia  Influenza and pneumonia (J09-J18)Influenza and...   \n",
       "Kidney disease           Nephritis, nephrotic syndrome and nephrosis (N...   \n",
       "Suicide                  Intentional self-harm (suicide) (*U03,X60-X84,...   \n",
       "\n",
       "                                                                     State  \\\n",
       "Cause Name                                                                   \n",
       "Heart disease            AlabamaAlaskaArizonaArkansasCaliforniaColorado...   \n",
       "Cancer                   AlabamaAlaskaArizonaArkansasCaliforniaColorado...   \n",
       "Stroke                   AlabamaAlaskaArizonaArkansasCaliforniaColorado...   \n",
       "CLRD                     AlabamaAlaskaArizonaArkansasCaliforniaColorado...   \n",
       "Unintentional injuries   AlabamaAlaskaArizonaArkansasCaliforniaColorado...   \n",
       "Alzheimer's disease      AlabamaAlaskaArizonaArkansasCaliforniaColorado...   \n",
       "Diabetes                 AlabamaAlaskaArizonaArkansasCaliforniaColorado...   \n",
       "Influenza and pneumonia  AlabamaAlaskaArizonaArkansasCaliforniaColorado...   \n",
       "Kidney disease           AlabamaAlaskaArizonaArkansasCaliforniaColorado...   \n",
       "Suicide                  AlabamaAlaskaArizonaArkansasCaliforniaColorado...   \n",
       "\n",
       "                           Deaths  Age-adjusted Death Rate  \n",
       "Cause Name                                                  \n",
       "Heart disease            12222640                 191798.4  \n",
       "Cancer                   10843644                 173078.6  \n",
       "Stroke                    2726523                  44476.9  \n",
       "CLRD                      2594927                  43253.4  \n",
       "Unintentional injuries    2347820                  42139.2  \n",
       "Alzheimer's disease       1494816                  24256.0  \n",
       "Diabetes                  1399943                  22677.4  \n",
       "Influenza and pneumonia   1094641                  17641.1  \n",
       "Kidney disease             858613                  13633.6  \n",
       "Suicide                    697016                  13019.9  "
      ]
     },
     "execution_count": 127,
     "metadata": {},
     "output_type": "execute_result"
    }
   ],
   "source": [
    "data2"
   ]
  },
  {
   "cell_type": "code",
   "execution_count": 128,
   "id": "0efb730d",
   "metadata": {},
   "outputs": [],
   "source": [
    "data2.reset_index(inplace=True)"
   ]
  },
  {
   "cell_type": "code",
   "execution_count": 131,
   "id": "4c6b3354",
   "metadata": {},
   "outputs": [
    {
     "data": {
      "text/plain": [
       "Text(0.5, 1.0, 'Top 3 Causes of Death number \\n 1999-2017')"
      ]
     },
     "execution_count": 131,
     "metadata": {},
     "output_type": "execute_result"
    },
    {
     "data": {
      "image/png": "[encoded data removed]",
      "text/plain": [
       "<Figure size 360x432 with 1 Axes>"
      ]
     },
     "metadata": {
      "needs_background": "light"
     },
     "output_type": "display_data"
    }
   ],
   "source": [
    "plt.figure(figsize=(5,6))\n",
    "plt.bar('Cause Name','Deaths', data=data2.head(3))\n",
    "plt.xticks(rotation=45)\n",
    "plt.title(\"Top 3 Causes of Death number \\n 1999-2017\")"
   ]
  },
  {
   "cell_type": "code",
   "execution_count": null,
   "id": "822fab57",
   "metadata": {},
   "outputs": [],
   "source": []
  }
 ],
 "metadata": {
  "kernelspec": {
   "display_name": "Python 3",
   "language": "python",
   "name": "python3"
  },
  "language_info": {
   "codemirror_mode": {
    "name": "ipython",
    "version": 3
   },
   "file_extension": ".py",
   "mimetype": "text/x-python",
   "name": "python",
   "nbconvert_exporter": "python",
   "pygments_lexer": "ipython3",
   "version": "3.8.8"
  }
 },
 "nbformat": 4,
 "nbformat_minor": 5
}
